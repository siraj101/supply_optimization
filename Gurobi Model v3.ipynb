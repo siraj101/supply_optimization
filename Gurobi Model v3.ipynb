{
 "cells": [
  {
   "cell_type": "markdown",
   "id": "10f986bc",
   "metadata": {},
   "source": [
    "# 1. Environment Setup"
   ]
  },
  {
   "cell_type": "code",
   "execution_count": 1,
   "id": "4d6d3872",
   "metadata": {},
   "outputs": [],
   "source": [
    "import gurobipy as gp\n",
    "from gurobipy import GRB\n",
    "import math\n",
    "import numpy as np\n",
    "import pandas as pd"
   ]
  },
  {
   "cell_type": "code",
   "execution_count": 2,
   "id": "91726d1b-abab-49a8-95d5-b4fecfb2c740",
   "metadata": {},
   "outputs": [],
   "source": [
    "demand_type = 'random'"
   ]
  },
  {
   "cell_type": "markdown",
   "id": "1b1bff81",
   "metadata": {},
   "source": [
    "# 2. Data Acquisition"
   ]
  },
  {
   "cell_type": "markdown",
   "id": "648d971e",
   "metadata": {},
   "source": [
    "### 2.1 Variables Definition"
   ]
  },
  {
   "cell_type": "code",
   "execution_count": 3,
   "id": "7f8b9819",
   "metadata": {},
   "outputs": [],
   "source": [
    "alloy = ['all_1','all_2','all_3','all_4','all_5']\n",
    "supplier = ['sup_1','sup_2','sup_3','sup_4','sup_5']\n",
    "product = ['prod_1','prod_2','prod_3']\n",
    "month = ['Init', 'Jan','Feb','Mar','Apr','May','Jun','Jul','Aug','Sep','Oct','Nov','Dec']\n",
    "I = len(alloy)\n",
    "J = len(supplier)\n",
    "Z = len(product)\n",
    "M = len(month)\n",
    "q = 0.05\n",
    "mu = 1"
   ]
  },
  {
   "cell_type": "code",
   "execution_count": 4,
   "id": "01324157",
   "metadata": {},
   "outputs": [],
   "source": [
    "x_name = []\n",
    "for i in alloy:\n",
    "    for j in supplier:\n",
    "        for m in month:\n",
    "            #value = 'units of '+i+' sourced from '+j+' in '+m\n",
    "            value = 'order '+i+' | '+j+' | '+m\n",
    "            x_name.append(value)\n",
    "            \n",
    "s_name = []\n",
    "for m in month:\n",
    "    for z in product:\n",
    "        #value = 'units of '+z+' delayed by one month on '+m\n",
    "        value = 'delay '+z+' | '+m\n",
    "        s_name.append(value)\n",
    "        \n",
    "D_name = []\n",
    "for m in month:\n",
    "    for z in product:\n",
    "        #value = 'units of '+z+' delivered to satisfy demand in '+m\n",
    "        value = 'deliver '+z+' | '+m\n",
    "        D_name.append(value)\n",
    "\n",
    "lambda_1_name = []\n",
    "for i in alloy:\n",
    "    for j in supplier:\n",
    "        for m in month:\n",
    "            #value = 'if contract upper range exceeded for '+i+' from '+j+' on month '+m\n",
    "            value = 'exceed '+i+' | '+j+' | '+m\n",
    "            lambda_1_name.append(value)\n",
    "\n",
    "lambda_2_name = []\n",
    "for i in alloy:\n",
    "    for j in supplier:\n",
    "        for m in month:\n",
    "            #value = 'if contract lower range exceeded for '+i+' from '+j+' on month '+m\n",
    "            value = 'surrender '+i+' | '+j+' | '+m\n",
    "            lambda_2_name.append(value)"
   ]
  },
  {
   "cell_type": "markdown",
   "id": "9dac37ad",
   "metadata": {},
   "source": [
    "### 2.2 Data Filepath"
   ]
  },
  {
   "cell_type": "code",
   "execution_count": 5,
   "id": "c8683818",
   "metadata": {},
   "outputs": [],
   "source": [
    "file_loc = 'Data Templates.xlsx'"
   ]
  },
  {
   "cell_type": "markdown",
   "id": "45fde513",
   "metadata": {},
   "source": [
    "### 2.3 Contract Upper Threshold"
   ]
  },
  {
   "cell_type": "code",
   "execution_count": 6,
   "id": "637e1bb3",
   "metadata": {},
   "outputs": [
    {
     "name": "stderr",
     "output_type": "stream",
     "text": [
      "C:\\Users\\siraj\\anaconda3\\lib\\site-packages\\openpyxl\\worksheet\\_reader.py:312: UserWarning: Conditional Formatting extension is not supported and will be removed\n",
      "  warn(msg)\n"
     ]
    }
   ],
   "source": [
    "contract_upper_threshold = pd.read_excel(file_loc,sheet_name='Contract Upper Threshold',header=2, na_values=['NA'], usecols=\"B:F\")\n",
    "contract_upper_threshold.index=alloy"
   ]
  },
  {
   "cell_type": "code",
   "execution_count": 7,
   "id": "afc65945",
   "metadata": {},
   "outputs": [
    {
     "data": {
      "text/html": [
       "<div>\n",
       "<style scoped>\n",
       "    .dataframe tbody tr th:only-of-type {\n",
       "        vertical-align: middle;\n",
       "    }\n",
       "\n",
       "    .dataframe tbody tr th {\n",
       "        vertical-align: top;\n",
       "    }\n",
       "\n",
       "    .dataframe thead th {\n",
       "        text-align: right;\n",
       "    }\n",
       "</style>\n",
       "<table border=\"1\" class=\"dataframe\">\n",
       "  <thead>\n",
       "    <tr style=\"text-align: right;\">\n",
       "      <th></th>\n",
       "      <th>Supp A</th>\n",
       "      <th>Supp B</th>\n",
       "      <th>Supp C</th>\n",
       "      <th>Supp D</th>\n",
       "      <th>Supp E</th>\n",
       "    </tr>\n",
       "  </thead>\n",
       "  <tbody>\n",
       "    <tr>\n",
       "      <th>all_1</th>\n",
       "      <td>750.000000</td>\n",
       "      <td>375.000000</td>\n",
       "      <td>625.000000</td>\n",
       "      <td>416.666667</td>\n",
       "      <td>333.333333</td>\n",
       "    </tr>\n",
       "    <tr>\n",
       "      <th>all_2</th>\n",
       "      <td>5000.000000</td>\n",
       "      <td>833.333333</td>\n",
       "      <td>2750.000000</td>\n",
       "      <td>1666.666667</td>\n",
       "      <td>416.666667</td>\n",
       "    </tr>\n",
       "    <tr>\n",
       "      <th>all_3</th>\n",
       "      <td>3750.000000</td>\n",
       "      <td>1250.000000</td>\n",
       "      <td>2916.666667</td>\n",
       "      <td>2104.166667</td>\n",
       "      <td>437.500000</td>\n",
       "    </tr>\n",
       "    <tr>\n",
       "      <th>all_4</th>\n",
       "      <td>208.333333</td>\n",
       "      <td>83.333333</td>\n",
       "      <td>187.500000</td>\n",
       "      <td>145.833333</td>\n",
       "      <td>41.666667</td>\n",
       "    </tr>\n",
       "    <tr>\n",
       "      <th>all_5</th>\n",
       "      <td>250.000000</td>\n",
       "      <td>95.833333</td>\n",
       "      <td>191.666667</td>\n",
       "      <td>150.000000</td>\n",
       "      <td>43.333333</td>\n",
       "    </tr>\n",
       "  </tbody>\n",
       "</table>\n",
       "</div>"
      ],
      "text/plain": [
       "            Supp A       Supp B       Supp C       Supp D      Supp E\n",
       "all_1   750.000000   375.000000   625.000000   416.666667  333.333333\n",
       "all_2  5000.000000   833.333333  2750.000000  1666.666667  416.666667\n",
       "all_3  3750.000000  1250.000000  2916.666667  2104.166667  437.500000\n",
       "all_4   208.333333    83.333333   187.500000   145.833333   41.666667\n",
       "all_5   250.000000    95.833333   191.666667   150.000000   43.333333"
      ]
     },
     "execution_count": 7,
     "metadata": {},
     "output_type": "execute_result"
    }
   ],
   "source": [
    "h = contract_upper_threshold\n",
    "contract_upper_threshold"
   ]
  },
  {
   "cell_type": "markdown",
   "id": "9b4a7408",
   "metadata": {},
   "source": [
    "### 2.4 Contract Lower Threshold"
   ]
  },
  {
   "cell_type": "code",
   "execution_count": 8,
   "id": "55a7c1fa",
   "metadata": {},
   "outputs": [],
   "source": [
    "contract_lower_threshold = pd.read_excel(file_loc,sheet_name='Contract Lower Threshold',header=2, na_values=['NA'], usecols=\"B:F\")\n",
    "contract_lower_threshold.index=alloy"
   ]
  },
  {
   "cell_type": "code",
   "execution_count": 9,
   "id": "293deebe",
   "metadata": {},
   "outputs": [
    {
     "data": {
      "text/html": [
       "<div>\n",
       "<style scoped>\n",
       "    .dataframe tbody tr th:only-of-type {\n",
       "        vertical-align: middle;\n",
       "    }\n",
       "\n",
       "    .dataframe tbody tr th {\n",
       "        vertical-align: top;\n",
       "    }\n",
       "\n",
       "    .dataframe thead th {\n",
       "        text-align: right;\n",
       "    }\n",
       "</style>\n",
       "<table border=\"1\" class=\"dataframe\">\n",
       "  <thead>\n",
       "    <tr style=\"text-align: right;\">\n",
       "      <th></th>\n",
       "      <th>Supp A</th>\n",
       "      <th>Supp B</th>\n",
       "      <th>Supp C</th>\n",
       "      <th>Supp D</th>\n",
       "      <th>Supp E</th>\n",
       "    </tr>\n",
       "  </thead>\n",
       "  <tbody>\n",
       "    <tr>\n",
       "      <th>all_1</th>\n",
       "      <td>208.333333</td>\n",
       "      <td>291.666667</td>\n",
       "      <td>333.333333</td>\n",
       "      <td>375.000000</td>\n",
       "      <td>312.500000</td>\n",
       "    </tr>\n",
       "    <tr>\n",
       "      <th>all_2</th>\n",
       "      <td>2520.833333</td>\n",
       "      <td>416.666667</td>\n",
       "      <td>833.333333</td>\n",
       "      <td>500.000000</td>\n",
       "      <td>208.333333</td>\n",
       "    </tr>\n",
       "    <tr>\n",
       "      <th>all_3</th>\n",
       "      <td>850.000000</td>\n",
       "      <td>833.333333</td>\n",
       "      <td>1250.000000</td>\n",
       "      <td>1270.833333</td>\n",
       "      <td>429.166667</td>\n",
       "    </tr>\n",
       "    <tr>\n",
       "      <th>all_4</th>\n",
       "      <td>20.833333</td>\n",
       "      <td>50.000000</td>\n",
       "      <td>41.666667</td>\n",
       "      <td>54.166667</td>\n",
       "      <td>33.333333</td>\n",
       "    </tr>\n",
       "    <tr>\n",
       "      <th>all_5</th>\n",
       "      <td>41.666667</td>\n",
       "      <td>58.333333</td>\n",
       "      <td>44.166667</td>\n",
       "      <td>66.666667</td>\n",
       "      <td>34.166667</td>\n",
       "    </tr>\n",
       "  </tbody>\n",
       "</table>\n",
       "</div>"
      ],
      "text/plain": [
       "            Supp A      Supp B       Supp C       Supp D      Supp E\n",
       "all_1   208.333333  291.666667   333.333333   375.000000  312.500000\n",
       "all_2  2520.833333  416.666667   833.333333   500.000000  208.333333\n",
       "all_3   850.000000  833.333333  1250.000000  1270.833333  429.166667\n",
       "all_4    20.833333   50.000000    41.666667    54.166667   33.333333\n",
       "all_5    41.666667   58.333333    44.166667    66.666667   34.166667"
      ]
     },
     "execution_count": 9,
     "metadata": {},
     "output_type": "execute_result"
    }
   ],
   "source": [
    "l = contract_lower_threshold\n",
    "contract_lower_threshold"
   ]
  },
  {
   "cell_type": "markdown",
   "id": "db68a5fb",
   "metadata": {},
   "source": [
    "### 2.5 Contract Penalties"
   ]
  },
  {
   "cell_type": "code",
   "execution_count": 10,
   "id": "14c7ad7e",
   "metadata": {},
   "outputs": [],
   "source": [
    "contract_penalties = pd.read_excel(file_loc,sheet_name='Contract Penalties',header=2, na_values=['NA'], usecols=\"B:F\")\n",
    "contract_penalties.index=['Penalty Fee %']"
   ]
  },
  {
   "cell_type": "code",
   "execution_count": 11,
   "id": "1bb7541d",
   "metadata": {},
   "outputs": [
    {
     "data": {
      "text/html": [
       "<div>\n",
       "<style scoped>\n",
       "    .dataframe tbody tr th:only-of-type {\n",
       "        vertical-align: middle;\n",
       "    }\n",
       "\n",
       "    .dataframe tbody tr th {\n",
       "        vertical-align: top;\n",
       "    }\n",
       "\n",
       "    .dataframe thead th {\n",
       "        text-align: right;\n",
       "    }\n",
       "</style>\n",
       "<table border=\"1\" class=\"dataframe\">\n",
       "  <thead>\n",
       "    <tr style=\"text-align: right;\">\n",
       "      <th></th>\n",
       "      <th>Supp A</th>\n",
       "      <th>Supp B</th>\n",
       "      <th>Supp C</th>\n",
       "      <th>Supp D</th>\n",
       "      <th>Supp E</th>\n",
       "    </tr>\n",
       "  </thead>\n",
       "  <tbody>\n",
       "    <tr>\n",
       "      <th>Penalty Fee %</th>\n",
       "      <td>1</td>\n",
       "      <td>0.6</td>\n",
       "      <td>0.9</td>\n",
       "      <td>0.7</td>\n",
       "      <td>0.44</td>\n",
       "    </tr>\n",
       "  </tbody>\n",
       "</table>\n",
       "</div>"
      ],
      "text/plain": [
       "               Supp A  Supp B  Supp C  Supp D  Supp E\n",
       "Penalty Fee %       1     0.6     0.9     0.7    0.44"
      ]
     },
     "execution_count": 11,
     "metadata": {},
     "output_type": "execute_result"
    }
   ],
   "source": [
    "p = contract_penalties\n",
    "contract_penalties"
   ]
  },
  {
   "cell_type": "markdown",
   "id": "1cb3007b",
   "metadata": {},
   "source": [
    "### 2.6 Annual Contract Limit"
   ]
  },
  {
   "cell_type": "code",
   "execution_count": 12,
   "id": "3d6be119",
   "metadata": {},
   "outputs": [],
   "source": [
    "annual_contracted_limit= pd.read_excel(file_loc,sheet_name='Annual Contracted Limit',header=2, na_values=['NA'], usecols=\"B:F\")\n",
    "annual_contracted_limit = annual_contracted_limit.iloc[:5,:]\n",
    "annual_contracted_limit.index=alloy"
   ]
  },
  {
   "cell_type": "code",
   "execution_count": 13,
   "id": "95ed37a7",
   "metadata": {},
   "outputs": [
    {
     "data": {
      "text/html": [
       "<div>\n",
       "<style scoped>\n",
       "    .dataframe tbody tr th:only-of-type {\n",
       "        vertical-align: middle;\n",
       "    }\n",
       "\n",
       "    .dataframe tbody tr th {\n",
       "        vertical-align: top;\n",
       "    }\n",
       "\n",
       "    .dataframe thead th {\n",
       "        text-align: right;\n",
       "    }\n",
       "</style>\n",
       "<table border=\"1\" class=\"dataframe\">\n",
       "  <thead>\n",
       "    <tr style=\"text-align: right;\">\n",
       "      <th></th>\n",
       "      <th>Supp A</th>\n",
       "      <th>Supp B</th>\n",
       "      <th>Supp C</th>\n",
       "      <th>Supp D</th>\n",
       "      <th>Supp E</th>\n",
       "    </tr>\n",
       "  </thead>\n",
       "  <tbody>\n",
       "    <tr>\n",
       "      <th>all_1</th>\n",
       "      <td>10927.5</td>\n",
       "      <td>6556.5</td>\n",
       "      <td>4371.0</td>\n",
       "      <td>7867.8</td>\n",
       "      <td>9616.2</td>\n",
       "    </tr>\n",
       "    <tr>\n",
       "      <th>all_2</th>\n",
       "      <td>67200.0</td>\n",
       "      <td>33600.0</td>\n",
       "      <td>22400.0</td>\n",
       "      <td>44800.0</td>\n",
       "      <td>56000.0</td>\n",
       "    </tr>\n",
       "    <tr>\n",
       "      <th>all_3</th>\n",
       "      <td>17600.0</td>\n",
       "      <td>44000.0</td>\n",
       "      <td>35200.0</td>\n",
       "      <td>35200.0</td>\n",
       "      <td>44000.0</td>\n",
       "    </tr>\n",
       "    <tr>\n",
       "      <th>all_4</th>\n",
       "      <td>1560.0</td>\n",
       "      <td>1872.0</td>\n",
       "      <td>1768.0</td>\n",
       "      <td>3120.0</td>\n",
       "      <td>2080.0</td>\n",
       "    </tr>\n",
       "    <tr>\n",
       "      <th>all_5</th>\n",
       "      <td>1356.0</td>\n",
       "      <td>3616.0</td>\n",
       "      <td>2938.0</td>\n",
       "      <td>1130.0</td>\n",
       "      <td>2260.0</td>\n",
       "    </tr>\n",
       "  </tbody>\n",
       "</table>\n",
       "</div>"
      ],
      "text/plain": [
       "        Supp A   Supp B   Supp C   Supp D   Supp E\n",
       "all_1  10927.5   6556.5   4371.0   7867.8   9616.2\n",
       "all_2  67200.0  33600.0  22400.0  44800.0  56000.0\n",
       "all_3  17600.0  44000.0  35200.0  35200.0  44000.0\n",
       "all_4   1560.0   1872.0   1768.0   3120.0   2080.0\n",
       "all_5   1356.0   3616.0   2938.0   1130.0   2260.0"
      ]
     },
     "execution_count": 13,
     "metadata": {},
     "output_type": "execute_result"
    }
   ],
   "source": [
    "k = annual_contracted_limit\n",
    "annual_contracted_limit"
   ]
  },
  {
   "cell_type": "markdown",
   "id": "cd7bf5e3",
   "metadata": {},
   "source": [
    "### 2.7 Unit Cost"
   ]
  },
  {
   "cell_type": "code",
   "execution_count": 14,
   "id": "06026f92",
   "metadata": {},
   "outputs": [],
   "source": [
    "unit_cost = pd.read_excel(file_loc,sheet_name='Unit Cost',header=2, na_values=['NA'], usecols=\"B:F\")\n",
    "unit_cost = unit_cost.iloc[:5,:]\n",
    "unit_cost.index=alloy"
   ]
  },
  {
   "cell_type": "code",
   "execution_count": 15,
   "id": "5de2666f",
   "metadata": {},
   "outputs": [
    {
     "data": {
      "text/html": [
       "<div>\n",
       "<style scoped>\n",
       "    .dataframe tbody tr th:only-of-type {\n",
       "        vertical-align: middle;\n",
       "    }\n",
       "\n",
       "    .dataframe tbody tr th {\n",
       "        vertical-align: top;\n",
       "    }\n",
       "\n",
       "    .dataframe thead th {\n",
       "        text-align: right;\n",
       "    }\n",
       "</style>\n",
       "<table border=\"1\" class=\"dataframe\">\n",
       "  <thead>\n",
       "    <tr style=\"text-align: right;\">\n",
       "      <th></th>\n",
       "      <th>Supp A</th>\n",
       "      <th>Supp B</th>\n",
       "      <th>Supp C</th>\n",
       "      <th>Supp D</th>\n",
       "      <th>Supp E</th>\n",
       "    </tr>\n",
       "  </thead>\n",
       "  <tbody>\n",
       "    <tr>\n",
       "      <th>all_1</th>\n",
       "      <td>3300.0</td>\n",
       "      <td>3290.0</td>\n",
       "      <td>3295.0</td>\n",
       "      <td>3293.0</td>\n",
       "      <td>3285.0</td>\n",
       "    </tr>\n",
       "    <tr>\n",
       "      <th>all_2</th>\n",
       "      <td>135.0</td>\n",
       "      <td>128.0</td>\n",
       "      <td>133.0</td>\n",
       "      <td>130.0</td>\n",
       "      <td>125.0</td>\n",
       "    </tr>\n",
       "    <tr>\n",
       "      <th>all_3</th>\n",
       "      <td>28.0</td>\n",
       "      <td>22.0</td>\n",
       "      <td>26.0</td>\n",
       "      <td>24.0</td>\n",
       "      <td>20.0</td>\n",
       "    </tr>\n",
       "    <tr>\n",
       "      <th>all_4</th>\n",
       "      <td>10300.0</td>\n",
       "      <td>10260.0</td>\n",
       "      <td>10285.0</td>\n",
       "      <td>10270.0</td>\n",
       "      <td>10240.0</td>\n",
       "    </tr>\n",
       "    <tr>\n",
       "      <th>all_5</th>\n",
       "      <td>2530.0</td>\n",
       "      <td>2450.0</td>\n",
       "      <td>2500.0</td>\n",
       "      <td>2470.0</td>\n",
       "      <td>2430.0</td>\n",
       "    </tr>\n",
       "  </tbody>\n",
       "</table>\n",
       "</div>"
      ],
      "text/plain": [
       "        Supp A   Supp B   Supp C   Supp D   Supp E\n",
       "all_1   3300.0   3290.0   3295.0   3293.0   3285.0\n",
       "all_2    135.0    128.0    133.0    130.0    125.0\n",
       "all_3     28.0     22.0     26.0     24.0     20.0\n",
       "all_4  10300.0  10260.0  10285.0  10270.0  10240.0\n",
       "all_5   2530.0   2450.0   2500.0   2470.0   2430.0"
      ]
     },
     "execution_count": 15,
     "metadata": {},
     "output_type": "execute_result"
    }
   ],
   "source": [
    "c = unit_cost\n",
    "unit_cost"
   ]
  },
  {
   "cell_type": "markdown",
   "id": "495c5c1c",
   "metadata": {},
   "source": [
    "### 2.8 Product Revenue"
   ]
  },
  {
   "cell_type": "code",
   "execution_count": 16,
   "id": "403c9408-3097-437a-bd4c-6bd2f1c4b84f",
   "metadata": {},
   "outputs": [
    {
     "name": "stderr",
     "output_type": "stream",
     "text": [
      "C:\\Users\\siraj\\anaconda3\\lib\\site-packages\\pandas\\io\\excel\\_base.py:1272: FutureWarning: Defining usecols with out of bounds indices is deprecated and will raise a ParserError in a future version.\n",
      "  return self._reader.parse(\n"
     ]
    }
   ],
   "source": [
    "prod_rev = pd.read_excel(file_loc,sheet_name='Prod Rev',header=2, na_values=['NA'], usecols=\"B:F\")\n",
    "prod_rev.index=['Revenue ($)']"
   ]
  },
  {
   "cell_type": "code",
   "execution_count": 17,
   "id": "5a69f590",
   "metadata": {},
   "outputs": [
    {
     "data": {
      "text/html": [
       "<div>\n",
       "<style scoped>\n",
       "    .dataframe tbody tr th:only-of-type {\n",
       "        vertical-align: middle;\n",
       "    }\n",
       "\n",
       "    .dataframe tbody tr th {\n",
       "        vertical-align: top;\n",
       "    }\n",
       "\n",
       "    .dataframe thead th {\n",
       "        text-align: right;\n",
       "    }\n",
       "</style>\n",
       "<table border=\"1\" class=\"dataframe\">\n",
       "  <thead>\n",
       "    <tr style=\"text-align: right;\">\n",
       "      <th></th>\n",
       "      <th>Prod 1</th>\n",
       "      <th>Prod 2</th>\n",
       "      <th>Prod 3</th>\n",
       "    </tr>\n",
       "  </thead>\n",
       "  <tbody>\n",
       "    <tr>\n",
       "      <th>Revenue ($)</th>\n",
       "      <td>185000</td>\n",
       "      <td>180000</td>\n",
       "      <td>270000</td>\n",
       "    </tr>\n",
       "  </tbody>\n",
       "</table>\n",
       "</div>"
      ],
      "text/plain": [
       "             Prod 1  Prod 2  Prod 3\n",
       "Revenue ($)  185000  180000  270000"
      ]
     },
     "execution_count": 17,
     "metadata": {},
     "output_type": "execute_result"
    }
   ],
   "source": [
    "r = prod_rev\n",
    "prod_rev"
   ]
  },
  {
   "cell_type": "markdown",
   "id": "ff545859",
   "metadata": {},
   "source": [
    "### 2.9 Product Recipe"
   ]
  },
  {
   "cell_type": "code",
   "execution_count": 18,
   "id": "33e5e3e0",
   "metadata": {},
   "outputs": [],
   "source": [
    "prod_recipe= pd.read_excel(file_loc,sheet_name='Prod Recipe',header=2, na_values=['NA'], usecols=\"B:D\")\n",
    "prod_recipe = prod_recipe.iloc[:5,:]\n",
    "prod_recipe.index=alloy"
   ]
  },
  {
   "cell_type": "code",
   "execution_count": 19,
   "id": "6959cbc7",
   "metadata": {},
   "outputs": [
    {
     "data": {
      "text/html": [
       "<div>\n",
       "<style scoped>\n",
       "    .dataframe tbody tr th:only-of-type {\n",
       "        vertical-align: middle;\n",
       "    }\n",
       "\n",
       "    .dataframe tbody tr th {\n",
       "        vertical-align: top;\n",
       "    }\n",
       "\n",
       "    .dataframe thead th {\n",
       "        text-align: right;\n",
       "    }\n",
       "</style>\n",
       "<table border=\"1\" class=\"dataframe\">\n",
       "  <thead>\n",
       "    <tr style=\"text-align: right;\">\n",
       "      <th></th>\n",
       "      <th>Prod 1</th>\n",
       "      <th>Prod 2</th>\n",
       "      <th>Prod 3</th>\n",
       "    </tr>\n",
       "  </thead>\n",
       "  <tbody>\n",
       "    <tr>\n",
       "      <th>all_1</th>\n",
       "      <td>21.855</td>\n",
       "      <td>10.9275</td>\n",
       "      <td>43.71</td>\n",
       "    </tr>\n",
       "    <tr>\n",
       "      <th>all_2</th>\n",
       "      <td>67.200</td>\n",
       "      <td>336.0000</td>\n",
       "      <td>268.80</td>\n",
       "    </tr>\n",
       "    <tr>\n",
       "      <th>all_3</th>\n",
       "      <td>0.000</td>\n",
       "      <td>308.0000</td>\n",
       "      <td>176.00</td>\n",
       "    </tr>\n",
       "    <tr>\n",
       "      <th>all_4</th>\n",
       "      <td>7.280</td>\n",
       "      <td>5.2000</td>\n",
       "      <td>6.24</td>\n",
       "    </tr>\n",
       "    <tr>\n",
       "      <th>all_5</th>\n",
       "      <td>5.650</td>\n",
       "      <td>11.3000</td>\n",
       "      <td>2.26</td>\n",
       "    </tr>\n",
       "  </tbody>\n",
       "</table>\n",
       "</div>"
      ],
      "text/plain": [
       "       Prod 1    Prod 2  Prod 3\n",
       "all_1  21.855   10.9275   43.71\n",
       "all_2  67.200  336.0000  268.80\n",
       "all_3   0.000  308.0000  176.00\n",
       "all_4   7.280    5.2000    6.24\n",
       "all_5   5.650   11.3000    2.26"
      ]
     },
     "execution_count": 19,
     "metadata": {},
     "output_type": "execute_result"
    }
   ],
   "source": [
    "u = prod_recipe\n",
    "prod_recipe"
   ]
  },
  {
   "cell_type": "markdown",
   "id": "0363f0c7",
   "metadata": {},
   "source": [
    "### 2.10 Predicted Demand"
   ]
  },
  {
   "cell_type": "code",
   "execution_count": 20,
   "id": "07fb9bc9",
   "metadata": {},
   "outputs": [],
   "source": [
    "predicted_demand= pd.read_csv(demand_type+'/demand.csv', header=2, na_values=['NA'], index_col=0)\n",
    "predicted_demand.index=month"
   ]
  },
  {
   "cell_type": "code",
   "execution_count": 21,
   "id": "c36a979e",
   "metadata": {},
   "outputs": [
    {
     "data": {
      "text/html": [
       "<div>\n",
       "<style scoped>\n",
       "    .dataframe tbody tr th:only-of-type {\n",
       "        vertical-align: middle;\n",
       "    }\n",
       "\n",
       "    .dataframe tbody tr th {\n",
       "        vertical-align: top;\n",
       "    }\n",
       "\n",
       "    .dataframe thead th {\n",
       "        text-align: right;\n",
       "    }\n",
       "</style>\n",
       "<table border=\"1\" class=\"dataframe\">\n",
       "  <thead>\n",
       "    <tr style=\"text-align: right;\">\n",
       "      <th></th>\n",
       "      <th>Prod 1</th>\n",
       "      <th>Prod 2</th>\n",
       "      <th>Prod 3</th>\n",
       "    </tr>\n",
       "  </thead>\n",
       "  <tbody>\n",
       "    <tr>\n",
       "      <th>Init</th>\n",
       "      <td>0.0</td>\n",
       "      <td>0.0</td>\n",
       "      <td>0.0</td>\n",
       "    </tr>\n",
       "    <tr>\n",
       "      <th>Jan</th>\n",
       "      <td>48.4</td>\n",
       "      <td>11.0</td>\n",
       "      <td>13.2</td>\n",
       "    </tr>\n",
       "    <tr>\n",
       "      <th>Feb</th>\n",
       "      <td>44.0</td>\n",
       "      <td>13.2</td>\n",
       "      <td>16.5</td>\n",
       "    </tr>\n",
       "    <tr>\n",
       "      <th>Mar</th>\n",
       "      <td>33.0</td>\n",
       "      <td>15.4</td>\n",
       "      <td>16.5</td>\n",
       "    </tr>\n",
       "    <tr>\n",
       "      <th>Apr</th>\n",
       "      <td>35.2</td>\n",
       "      <td>11.0</td>\n",
       "      <td>16.5</td>\n",
       "    </tr>\n",
       "    <tr>\n",
       "      <th>May</th>\n",
       "      <td>39.6</td>\n",
       "      <td>16.5</td>\n",
       "      <td>22.0</td>\n",
       "    </tr>\n",
       "    <tr>\n",
       "      <th>Jun</th>\n",
       "      <td>44.0</td>\n",
       "      <td>27.5</td>\n",
       "      <td>27.5</td>\n",
       "    </tr>\n",
       "    <tr>\n",
       "      <th>Jul</th>\n",
       "      <td>39.6</td>\n",
       "      <td>24.2</td>\n",
       "      <td>35.2</td>\n",
       "    </tr>\n",
       "    <tr>\n",
       "      <th>Aug</th>\n",
       "      <td>44.0</td>\n",
       "      <td>22.0</td>\n",
       "      <td>30.8</td>\n",
       "    </tr>\n",
       "    <tr>\n",
       "      <th>Sep</th>\n",
       "      <td>35.2</td>\n",
       "      <td>19.8</td>\n",
       "      <td>24.2</td>\n",
       "    </tr>\n",
       "    <tr>\n",
       "      <th>Oct</th>\n",
       "      <td>38.5</td>\n",
       "      <td>19.8</td>\n",
       "      <td>24.2</td>\n",
       "    </tr>\n",
       "    <tr>\n",
       "      <th>Nov</th>\n",
       "      <td>66.0</td>\n",
       "      <td>22.0</td>\n",
       "      <td>22.0</td>\n",
       "    </tr>\n",
       "    <tr>\n",
       "      <th>Dec</th>\n",
       "      <td>82.5</td>\n",
       "      <td>17.6</td>\n",
       "      <td>26.4</td>\n",
       "    </tr>\n",
       "  </tbody>\n",
       "</table>\n",
       "</div>"
      ],
      "text/plain": [
       "      Prod 1  Prod 2  Prod 3\n",
       "Init     0.0     0.0     0.0\n",
       "Jan     48.4    11.0    13.2\n",
       "Feb     44.0    13.2    16.5\n",
       "Mar     33.0    15.4    16.5\n",
       "Apr     35.2    11.0    16.5\n",
       "May     39.6    16.5    22.0\n",
       "Jun     44.0    27.5    27.5\n",
       "Jul     39.6    24.2    35.2\n",
       "Aug     44.0    22.0    30.8\n",
       "Sep     35.2    19.8    24.2\n",
       "Oct     38.5    19.8    24.2\n",
       "Nov     66.0    22.0    22.0\n",
       "Dec     82.5    17.6    26.4"
      ]
     },
     "execution_count": 21,
     "metadata": {},
     "output_type": "execute_result"
    }
   ],
   "source": [
    "d = predicted_demand\n",
    "predicted_demand"
   ]
  },
  {
   "cell_type": "markdown",
   "id": "4eb096f9",
   "metadata": {},
   "source": [
    "# 3. Gurobi"
   ]
  },
  {
   "cell_type": "code",
   "execution_count": 22,
   "id": "bd65d6ed",
   "metadata": {},
   "outputs": [
    {
     "name": "stdout",
     "output_type": "stream",
     "text": [
      "Set parameter Username\n",
      "Academic license - for non-commercial use only - expires 2022-09-25\n"
     ]
    }
   ],
   "source": [
    "model = gp.Model()"
   ]
  },
  {
   "cell_type": "markdown",
   "id": "773030c3",
   "metadata": {},
   "source": [
    "### 3.1 Decision variables:\n",
    "\n",
    "$ x_{i,j,m} $ how much of alloy type $ i $ to source from supplier $ j $ in month $ m $\n",
    "\n",
    "$ s_{m, z} $ how many units of product type $ z $ will be delayed by one month on month $ m $\n",
    "\n",
    "$ D_{m, z} $ how many units of product type $ z $ were delivered to satisfy demand on month $ m $\n",
    "\n",
    "$ \\lambda^1_{i, j, m} $ a variable indicating how much the order exceeded the upper contract threshold for alloy $i$ from supplier $j$ on month $m$\n",
    "\n",
    "$ \\lambda^2_{i, j, m} $ a variable indicating how much the order fell short of the lower contract threshold for alloy $i$ from supplier $j$ on month $m$"
   ]
  },
  {
   "cell_type": "code",
   "execution_count": 23,
   "id": "91b66d6b",
   "metadata": {},
   "outputs": [],
   "source": [
    "x = model.addVars(I, J, M, vtype=GRB.CONTINUOUS, lb=0, name=x_name)\n",
    "s = model.addVars(M,Z, vtype=GRB.CONTINUOUS, lb=0, name=s_name)\n",
    "D = model.addVars(M,Z, vtype=GRB.CONTINUOUS, lb=0, name=D_name)\n",
    "lambda1 = model.addVars(I, J, M, vtype=GRB.CONTINUOUS, lb=0, name=lambda_1_name)\n",
    "lambda2 = model.addVars(I, J, M, vtype=GRB.CONTINUOUS, lb=0, name=lambda_2_name)"
   ]
  },
  {
   "cell_type": "markdown",
   "id": "5328e43f",
   "metadata": {},
   "source": [
    "### 3.2 Objective function\n",
    "\n",
    "Maximize \n",
    "\n",
    "$$\n",
    "\\sum \\limits _{m=1} ^{12}\\sum \\limits _{z=1} ^{3} D_{m, z} r_{z} - \\sum \\limits _{m=1} ^{12}\\sum \\limits _{z=1} ^{3} s_{m, z} r_{z}q - \\sum \\limits _{i=1} ^{5}\\sum \\limits _{j=1} ^{5}\\sum \\limits _{m=1} ^{12} c_{i,j}x_{i,j,m} - \\sum \\limits _{i=1} ^{5}\\sum \\limits _{j=1} ^{5}\\sum \\limits _{m=1} ^{12} \\lambda^{1}_{i,j,m}p_{j}c_{i,j} - \\sum \\limits _{i=1} ^{5}\\sum \\limits _{j=1} ^{5}\\sum \\limits _{m=1} ^{12} \\lambda^{2}_{i,j,m}p_{j}c_{i,j} $$"
   ]
  },
  {
   "cell_type": "code",
   "execution_count": 24,
   "id": "92f08346",
   "metadata": {},
   "outputs": [],
   "source": [
    "revenue = sum(D[m,z]*r.iloc[0,z] for m in range(1, M) for z in range(Z))\n",
    "delay = sum(s[m,z]*r.iloc[0,z]*q for m in range(1, M) for z in range(Z))\n",
    "cost = sum(c.iloc[i,j]*x[i,j,m] for i in range(I) for j in range(J) for m in range(1, M))\n",
    "high = sum(lambda1[i,j,m]*p.iloc[0,j]*c.iloc[i, j] for i in range(I) for j in range(J) for m in range(1, M))\n",
    "low = sum(lambda2[i,j,m]*p.iloc[0,j]*c.iloc[i, j] for i in range(I) for j in range(J) for m in range(1, M))"
   ]
  },
  {
   "cell_type": "code",
   "execution_count": 25,
   "id": "e7fc56e8",
   "metadata": {},
   "outputs": [],
   "source": [
    "model.setObjective(revenue-delay-cost-high-low,GRB.MAXIMIZE)"
   ]
  },
  {
   "cell_type": "markdown",
   "id": "fe993536",
   "metadata": {},
   "source": [
    "### 3.3 Constraints:\n",
    "\n",
    "**Capacity**\n",
    "\n",
    "$ \\sum \\limits _{m=1} ^{12} x_{i,j,m} \\le k_{i,j} $ $ \\forall i = 1,...,5$ and $j = 1,...5 $"
   ]
  },
  {
   "cell_type": "code",
   "execution_count": 26,
   "id": "7d7b9846",
   "metadata": {},
   "outputs": [],
   "source": [
    "for i in range(I):\n",
    "    for j in range(J):\n",
    "        model.addConstr(sum(x[i,j,m] for m in range(1, M))<=k.iloc[i,j])"
   ]
  },
  {
   "cell_type": "markdown",
   "id": "2112c9b3-c964-4124-86ca-8ca9c13194f7",
   "metadata": {},
   "source": [
    "**Month 0 Constraints**\n",
    "    \n",
    "$ x_{i,j,m=0} = s_{m=0,z} = D_{m=0} = \\lambda^1_{i, j, m=0} = \\lambda^2_{i, j, m=0} = 0$ $\\forall i = 1, ..., 5$, $j = 1, ..., 5 $, and $ z = 1, .., 3$"
   ]
  },
  {
   "cell_type": "code",
   "execution_count": 27,
   "id": "cb43f740-fc5b-4298-8bfc-770602c5e739",
   "metadata": {},
   "outputs": [
    {
     "data": {
      "text/plain": [
       "{0: <gurobi.Constr *Awaiting Model Update*>,\n",
       " 1: <gurobi.Constr *Awaiting Model Update*>,\n",
       " 2: <gurobi.Constr *Awaiting Model Update*>}"
      ]
     },
     "execution_count": 27,
     "metadata": {},
     "output_type": "execute_result"
    }
   ],
   "source": [
    "model.addConstrs(x[i,j,0]==0 for i in range(I) for j in range(J))\n",
    "model.addConstrs(lambda1[i,j,0]==0 for i in range(I) for j in range(J))\n",
    "model.addConstrs(lambda2[i,j,0]==0 for i in range(I) for j in range(J))\n",
    "model.addConstrs(s[0,z]==0 for z in range(Z))\n",
    "model.addConstrs(D[0,z]==0 for z in range(Z))"
   ]
  },
  {
   "cell_type": "markdown",
   "id": "88e22dbb",
   "metadata": {},
   "source": [
    "**Enough Alloys are Sourced to Meet Delivery Requirements (no inventory passed on to next month)**\n",
    "    \n",
    "$\\sum \\limits _{j=1} ^{5} x_{i,j,m} = \\sum \\limits _{z=1} ^{3} D_{m,z} u_{i,z}  $ $ \\forall m = 1,...,12 $ and $i = 1, ..., 5 $"
   ]
  },
  {
   "cell_type": "code",
   "execution_count": 28,
   "id": "8900a56a",
   "metadata": {},
   "outputs": [],
   "source": [
    "for m in range(1, M):\n",
    "    for i in range(I):\n",
    "        model.addConstr(sum(x[i,j,m] for j in range(J))==sum(D[m,z]*u.iloc[i,z] for z in range(Z)))"
   ]
  },
  {
   "cell_type": "markdown",
   "id": "e8d20cf6",
   "metadata": {},
   "source": [
    "**Maximum Delay Capacity**\n",
    "\n",
    "$s_{m, z} \\le \\mu (d_{m, z}+s_{m-1, z}) $ $ \\forall m = 1,...,12 $ and $ z = 1,...,3 $"
   ]
  },
  {
   "cell_type": "code",
   "execution_count": 29,
   "id": "db84a28f",
   "metadata": {},
   "outputs": [],
   "source": [
    "for m in range(1, M):\n",
    "    for z in range(Z):\n",
    "        model.addConstr(s[m,z]<=mu*(d.iloc[m,z]+s[m-1,z]))"
   ]
  },
  {
   "cell_type": "markdown",
   "id": "002bf786",
   "metadata": {},
   "source": [
    "**Demand Delivered per Month**\n",
    "\n",
    "$D_{m, z} = s_{m-1, z} + d_{m, z} - s_{m, z} $ $ \\forall m = 1, ..., 12$ and $ z = 1, ..., 3 $"
   ]
  },
  {
   "cell_type": "code",
   "execution_count": 30,
   "id": "dcb580ca",
   "metadata": {},
   "outputs": [],
   "source": [
    "model.addConstrs(s[0,z]==0 for z in range(Z))\n",
    "\n",
    "for m in range(1,M):\n",
    "    for z in range(Z):\n",
    "        model.addConstr(D[m,z] == s[m-1,z] + d.iloc[m,z] - s[m,z])"
   ]
  },
  {
   "cell_type": "markdown",
   "id": "03cbb54a",
   "metadata": {},
   "source": [
    "**Meet All Demand Predicted Within the Year**\n",
    "\n",
    "$\\sum \\limits _{m=1}^{12} D_{m,z} = \\sum \\limits _{m=1}^{12} d_{m, z} $"
   ]
  },
  {
   "cell_type": "code",
   "execution_count": 31,
   "id": "7ba8f149",
   "metadata": {},
   "outputs": [],
   "source": [
    "for z in range(Z):\n",
    "    model.addConstr(sum(D[m,z] for m in range(1, M)) == sum(d.iloc[m,z] for m in range(1, M)))"
   ]
  },
  {
   "cell_type": "markdown",
   "id": "1662f488",
   "metadata": {},
   "source": [
    "**Upper limit penalty**\n",
    "\n",
    "$  x_{i,j,m} - h_{i,j} \\le \\lambda^1_{i, j, m} $ $\\forall i = 1,...,5 $,  $ j = 1,...,5 $, and $ m = 1,...,12 $"
   ]
  },
  {
   "cell_type": "code",
   "execution_count": 32,
   "id": "057ff2d9",
   "metadata": {},
   "outputs": [],
   "source": [
    "for i in range(I):\n",
    "    for j in range(J):\n",
    "        for m in range(M):\n",
    "            model.addConstr(x[i,j,m]-h.iloc[i,j] <= lambda1[i,j,m])"
   ]
  },
  {
   "cell_type": "markdown",
   "id": "3a6c3618",
   "metadata": {},
   "source": [
    "**Lower limit penalty**\n",
    "\n",
    "$ l_{i,j} - x_{i,j,m} \\le M \\lambda^2_{i, j, m}  \\forall i = 1,...,5 $, $ j = 1,...,5 $, and $ m = 1,...,12 $ where $ M $ is a very large number"
   ]
  },
  {
   "cell_type": "code",
   "execution_count": 33,
   "id": "a88e4b47",
   "metadata": {},
   "outputs": [],
   "source": [
    "for i in range(I):\n",
    "    for j in range(J):\n",
    "        for m in range(1, M):\n",
    "            model.addConstr(l.iloc[i,j]-x[i,j,m] <= lambda2[i,j,m])"
   ]
  },
  {
   "cell_type": "markdown",
   "id": "f9d04d23",
   "metadata": {},
   "source": [
    "**Non-negativity constraints**\n",
    "\n",
    "$ x_{i,j,m} \\ge 0$ $ \\forall i = 1,...,5 $, $ j = 1,...,5 $, and $ m = 1,...,12 $\n",
    "\n",
    "$ s_{m, z} \\ge 0$ $\\forall m = 1,...,12 $ and $ z = 1,...,3 $\n",
    "\n",
    "$ D_{m, z} \\ge 0$ $\\forall m = 1,...,12 $ and $ z = 1,...,3 $\n",
    "\n",
    "$ \\lambda^1_{i, j, m} \\ge 0$  $\\forall i = 1,...,5$, $ j=1, ..., 5$, and $ m = 1,...,12 $\n",
    "\n",
    "$ \\lambda^2_{i, j, m} \\ge 0$  $\\forall i = 1,...,5$, $ j=1, ..., 5$, and $ m = 1,...,12 $"
   ]
  },
  {
   "cell_type": "code",
   "execution_count": 34,
   "id": "a8211873",
   "metadata": {},
   "outputs": [],
   "source": [
    "# these constraints are already applied while setting up decision variables"
   ]
  },
  {
   "cell_type": "markdown",
   "id": "50b117da",
   "metadata": {},
   "source": [
    "# 4. Result"
   ]
  },
  {
   "cell_type": "code",
   "execution_count": 35,
   "id": "96004624",
   "metadata": {},
   "outputs": [
    {
     "name": "stdout",
     "output_type": "stream",
     "text": [
      "Gurobi Optimizer version 9.5.1 build v9.5.1rc2 (win64)\n",
      "Thread count: 4 physical cores, 8 logical processors, using up to 8 threads\n",
      "Optimize a model with 869 rows, 1053 columns and 2318 nonzeros\n",
      "Model fingerprint: 0xd91e9e2b\n",
      "Coefficient statistics:\n",
      "  Matrix range     [1e+00, 3e+02]\n",
      "  Objective range  [9e+00, 3e+05]\n",
      "  Bounds range     [0e+00, 0e+00]\n",
      "  RHS range        [1e+01, 7e+04]\n",
      "Presolve removed 115 rows and 84 columns\n",
      "Presolve time: 0.01s\n",
      "Presolved: 754 rows, 969 columns, 2169 nonzeros\n",
      "\n",
      "Iteration    Objective       Primal Inf.    Dual Inf.      Time\n",
      "       0    1.2802263e+09   9.361643e+04   0.000000e+00      0s\n",
      "    1481    7.4383432e+06   0.000000e+00   0.000000e+00      0s\n",
      "\n",
      "Solved in 1481 iterations and 0.03 seconds (0.01 work units)\n",
      "Optimal objective  7.438343182e+06\n"
     ]
    }
   ],
   "source": [
    "model.optimize()"
   ]
  },
  {
   "cell_type": "code",
   "execution_count": 36,
   "id": "d695b5ca-031e-4685-80fb-ea2f9da1b4e8",
   "metadata": {},
   "outputs": [],
   "source": [
    "for i in range(I):\n",
    "    orders = pd.DataFrame(columns=supplier, index=month)\n",
    "    \n",
    "    for j in range(J):\n",
    "        for m in range(M):\n",
    "            \n",
    "            orders.loc[month[m], supplier[j]] = x[i, j, m].X\n",
    "\n",
    "    orders.to_csv(demand_type+'/all_'+str(i+1)+'_opt.csv')"
   ]
  },
  {
   "cell_type": "code",
   "execution_count": 37,
   "id": "85e6101d-4c56-4a41-9c85-6ca17945516a",
   "metadata": {},
   "outputs": [],
   "source": [
    "costs = pd.Series(dtype='float64')\n",
    "\n",
    "\n",
    "costs['PO_cost'] = sum(c.iloc[i,j]*x[i,j,m].X for i in range(I) for j in range(J) for m in range(1, M))\n",
    "costs['delay_cost'] = sum(s[m,z].X*r.iloc[0,z]*q for m in range(1, M) for z in range(Z))\n",
    "costs['exceed_cost'] = sum(lambda1[i,j,m].X*p.iloc[0,j]*c.iloc[i, j] for i in range(I) for j in range(J) for m in range(1, M))\n",
    "costs['surrender_cost'] = sum(lambda2[i,j,m].X*p.iloc[0,j]*c.iloc[i, j] for i in range(I) for j in range(J) for m in range(1, M))\n",
    "\n",
    "costs.to_csv(demand_type+'/opt_cost.csv')"
   ]
  },
  {
   "cell_type": "code",
   "execution_count": 38,
   "id": "67d493c3-0d7f-452c-a58f-bc61d168d9eb",
   "metadata": {},
   "outputs": [],
   "source": [
    "def sen_report(model):\n",
    "    print('Sensitivity Analysis (SA)\\n ObjVal =', model.ObjVal)\n",
    "    model.printAttr(['X', 'Obj', 'SAObjLow', 'SAObjUp'])\n",
    "    model.printAttr(['X', 'RC', 'LB', 'SALBLow', 'SALBUp', 'UB', 'SAUBLow', 'SAUBUp'])\n",
    "    model.printAttr(['Sense', 'Slack', 'Pi', 'RHS', 'SARHSLow', 'SARHSUp']) # Pi = shadow price\n",
    "    # NOTE: printAttr prints only rows with at least one NON-ZERO value, e.g. model.printAttr('X') prints only non-zero variable values"
   ]
  }
 ],
 "metadata": {
  "kernelspec": {
   "display_name": "Python 3 (ipykernel)",
   "language": "python",
   "name": "python3"
  },
  "language_info": {
   "codemirror_mode": {
    "name": "ipython",
    "version": 3
   },
   "file_extension": ".py",
   "mimetype": "text/x-python",
   "name": "python",
   "nbconvert_exporter": "python",
   "pygments_lexer": "ipython3",
   "version": "3.9.7"
  }
 },
 "nbformat": 4,
 "nbformat_minor": 5
}
