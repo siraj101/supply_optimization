{
 "cells": [
  {
   "cell_type": "markdown",
   "id": "10f986bc",
   "metadata": {},
   "source": [
    "# 1. Environment Setup"
   ]
  },
  {
   "cell_type": "code",
   "execution_count": 1,
   "id": "4d6d3872",
   "metadata": {},
   "outputs": [],
   "source": [
    "import math\n",
    "import numpy as np\n",
    "import pandas as pd"
   ]
  },
  {
   "cell_type": "markdown",
   "id": "1b1bff81",
   "metadata": {},
   "source": [
    "# 2. Data Acquisition"
   ]
  },
  {
   "cell_type": "markdown",
   "id": "648d971e",
   "metadata": {},
   "source": [
    "### 2.1 Variables Definition"
   ]
  },
  {
   "cell_type": "code",
   "execution_count": 2,
   "id": "7f8b9819",
   "metadata": {},
   "outputs": [],
   "source": [
    "alloy = ['all_1','all_2','all_3','all_4','all_5']\n",
    "supplier = ['sup_1','sup_2','sup_3','sup_4','sup_5']\n",
    "product = ['prod_1','prod_2','prod_3']\n",
    "month = ['Init', 'Jan','Feb','Mar','Apr','May','Jun','Jul','Aug','Sep','Oct','Nov','Dec']\n",
    "I = len(alloy)\n",
    "J = len(supplier)\n",
    "Z = len(product)\n",
    "M = len(month)\n",
    "q = 0.05\n",
    "mu = 1"
   ]
  },
  {
   "cell_type": "markdown",
   "id": "9dac37ad",
   "metadata": {},
   "source": [
    "### 2.2 Data Filepath"
   ]
  },
  {
   "cell_type": "code",
   "execution_count": 3,
   "id": "c8683818",
   "metadata": {},
   "outputs": [],
   "source": [
    "file_loc = 'Data Templates.xlsx'"
   ]
  },
  {
   "cell_type": "markdown",
   "id": "45fde513",
   "metadata": {},
   "source": [
    "### 2.3 Contract Upper Threshold"
   ]
  },
  {
   "cell_type": "code",
   "execution_count": 4,
   "id": "637e1bb3",
   "metadata": {},
   "outputs": [
    {
     "name": "stderr",
     "output_type": "stream",
     "text": [
      "C:\\Users\\siraj\\anaconda3\\lib\\site-packages\\openpyxl\\worksheet\\_reader.py:312: UserWarning: Conditional Formatting extension is not supported and will be removed\n",
      "  warn(msg)\n"
     ]
    }
   ],
   "source": [
    "contract_upper_threshold = pd.read_excel(file_loc,sheet_name='Contract Upper Threshold',header=2, na_values=['NA'], usecols=\"B:F\")\n",
    "contract_upper_threshold.index=alloy"
   ]
  },
  {
   "cell_type": "code",
   "execution_count": 5,
   "id": "afc65945",
   "metadata": {},
   "outputs": [
    {
     "data": {
      "text/html": [
       "<div>\n",
       "<style scoped>\n",
       "    .dataframe tbody tr th:only-of-type {\n",
       "        vertical-align: middle;\n",
       "    }\n",
       "\n",
       "    .dataframe tbody tr th {\n",
       "        vertical-align: top;\n",
       "    }\n",
       "\n",
       "    .dataframe thead th {\n",
       "        text-align: right;\n",
       "    }\n",
       "</style>\n",
       "<table border=\"1\" class=\"dataframe\">\n",
       "  <thead>\n",
       "    <tr style=\"text-align: right;\">\n",
       "      <th></th>\n",
       "      <th>Supp A</th>\n",
       "      <th>Supp B</th>\n",
       "      <th>Supp C</th>\n",
       "      <th>Supp D</th>\n",
       "      <th>Supp E</th>\n",
       "    </tr>\n",
       "  </thead>\n",
       "  <tbody>\n",
       "    <tr>\n",
       "      <th>all_1</th>\n",
       "      <td>750.000000</td>\n",
       "      <td>375.000000</td>\n",
       "      <td>625.000000</td>\n",
       "      <td>416.666667</td>\n",
       "      <td>333.333333</td>\n",
       "    </tr>\n",
       "    <tr>\n",
       "      <th>all_2</th>\n",
       "      <td>5000.000000</td>\n",
       "      <td>833.333333</td>\n",
       "      <td>2750.000000</td>\n",
       "      <td>1666.666667</td>\n",
       "      <td>416.666667</td>\n",
       "    </tr>\n",
       "    <tr>\n",
       "      <th>all_3</th>\n",
       "      <td>3750.000000</td>\n",
       "      <td>1250.000000</td>\n",
       "      <td>2916.666667</td>\n",
       "      <td>2104.166667</td>\n",
       "      <td>437.500000</td>\n",
       "    </tr>\n",
       "    <tr>\n",
       "      <th>all_4</th>\n",
       "      <td>208.333333</td>\n",
       "      <td>83.333333</td>\n",
       "      <td>187.500000</td>\n",
       "      <td>145.833333</td>\n",
       "      <td>41.666667</td>\n",
       "    </tr>\n",
       "    <tr>\n",
       "      <th>all_5</th>\n",
       "      <td>250.000000</td>\n",
       "      <td>95.833333</td>\n",
       "      <td>191.666667</td>\n",
       "      <td>150.000000</td>\n",
       "      <td>43.333333</td>\n",
       "    </tr>\n",
       "  </tbody>\n",
       "</table>\n",
       "</div>"
      ],
      "text/plain": [
       "            Supp A       Supp B       Supp C       Supp D      Supp E\n",
       "all_1   750.000000   375.000000   625.000000   416.666667  333.333333\n",
       "all_2  5000.000000   833.333333  2750.000000  1666.666667  416.666667\n",
       "all_3  3750.000000  1250.000000  2916.666667  2104.166667  437.500000\n",
       "all_4   208.333333    83.333333   187.500000   145.833333   41.666667\n",
       "all_5   250.000000    95.833333   191.666667   150.000000   43.333333"
      ]
     },
     "execution_count": 5,
     "metadata": {},
     "output_type": "execute_result"
    }
   ],
   "source": [
    "h = contract_upper_threshold\n",
    "contract_upper_threshold"
   ]
  },
  {
   "cell_type": "markdown",
   "id": "9b4a7408",
   "metadata": {},
   "source": [
    "### 2.4 Contract Lower Threshold"
   ]
  },
  {
   "cell_type": "code",
   "execution_count": 6,
   "id": "55a7c1fa",
   "metadata": {},
   "outputs": [],
   "source": [
    "contract_lower_threshold = pd.read_excel(file_loc,sheet_name='Contract Lower Threshold',header=2, na_values=['NA'], usecols=\"B:F\")\n",
    "contract_lower_threshold.index=alloy"
   ]
  },
  {
   "cell_type": "code",
   "execution_count": 7,
   "id": "293deebe",
   "metadata": {},
   "outputs": [
    {
     "data": {
      "text/html": [
       "<div>\n",
       "<style scoped>\n",
       "    .dataframe tbody tr th:only-of-type {\n",
       "        vertical-align: middle;\n",
       "    }\n",
       "\n",
       "    .dataframe tbody tr th {\n",
       "        vertical-align: top;\n",
       "    }\n",
       "\n",
       "    .dataframe thead th {\n",
       "        text-align: right;\n",
       "    }\n",
       "</style>\n",
       "<table border=\"1\" class=\"dataframe\">\n",
       "  <thead>\n",
       "    <tr style=\"text-align: right;\">\n",
       "      <th></th>\n",
       "      <th>Supp A</th>\n",
       "      <th>Supp B</th>\n",
       "      <th>Supp C</th>\n",
       "      <th>Supp D</th>\n",
       "      <th>Supp E</th>\n",
       "    </tr>\n",
       "  </thead>\n",
       "  <tbody>\n",
       "    <tr>\n",
       "      <th>all_1</th>\n",
       "      <td>208.333333</td>\n",
       "      <td>291.666667</td>\n",
       "      <td>333.333333</td>\n",
       "      <td>375.000000</td>\n",
       "      <td>312.500000</td>\n",
       "    </tr>\n",
       "    <tr>\n",
       "      <th>all_2</th>\n",
       "      <td>2520.833333</td>\n",
       "      <td>416.666667</td>\n",
       "      <td>833.333333</td>\n",
       "      <td>500.000000</td>\n",
       "      <td>208.333333</td>\n",
       "    </tr>\n",
       "    <tr>\n",
       "      <th>all_3</th>\n",
       "      <td>850.000000</td>\n",
       "      <td>833.333333</td>\n",
       "      <td>1250.000000</td>\n",
       "      <td>1270.833333</td>\n",
       "      <td>429.166667</td>\n",
       "    </tr>\n",
       "    <tr>\n",
       "      <th>all_4</th>\n",
       "      <td>20.833333</td>\n",
       "      <td>50.000000</td>\n",
       "      <td>41.666667</td>\n",
       "      <td>54.166667</td>\n",
       "      <td>33.333333</td>\n",
       "    </tr>\n",
       "    <tr>\n",
       "      <th>all_5</th>\n",
       "      <td>41.666667</td>\n",
       "      <td>58.333333</td>\n",
       "      <td>44.166667</td>\n",
       "      <td>66.666667</td>\n",
       "      <td>34.166667</td>\n",
       "    </tr>\n",
       "  </tbody>\n",
       "</table>\n",
       "</div>"
      ],
      "text/plain": [
       "            Supp A      Supp B       Supp C       Supp D      Supp E\n",
       "all_1   208.333333  291.666667   333.333333   375.000000  312.500000\n",
       "all_2  2520.833333  416.666667   833.333333   500.000000  208.333333\n",
       "all_3   850.000000  833.333333  1250.000000  1270.833333  429.166667\n",
       "all_4    20.833333   50.000000    41.666667    54.166667   33.333333\n",
       "all_5    41.666667   58.333333    44.166667    66.666667   34.166667"
      ]
     },
     "execution_count": 7,
     "metadata": {},
     "output_type": "execute_result"
    }
   ],
   "source": [
    "l = contract_lower_threshold\n",
    "contract_lower_threshold"
   ]
  },
  {
   "cell_type": "markdown",
   "id": "db68a5fb",
   "metadata": {},
   "source": [
    "### 2.5 Contract Penalties"
   ]
  },
  {
   "cell_type": "code",
   "execution_count": 8,
   "id": "14c7ad7e",
   "metadata": {},
   "outputs": [],
   "source": [
    "contract_penalties = pd.read_excel(file_loc,sheet_name='Contract Penalties',header=2, na_values=['NA'], usecols=\"B:F\")\n",
    "contract_penalties.index=['Penalty Fee %']"
   ]
  },
  {
   "cell_type": "code",
   "execution_count": 9,
   "id": "1bb7541d",
   "metadata": {},
   "outputs": [
    {
     "data": {
      "text/html": [
       "<div>\n",
       "<style scoped>\n",
       "    .dataframe tbody tr th:only-of-type {\n",
       "        vertical-align: middle;\n",
       "    }\n",
       "\n",
       "    .dataframe tbody tr th {\n",
       "        vertical-align: top;\n",
       "    }\n",
       "\n",
       "    .dataframe thead th {\n",
       "        text-align: right;\n",
       "    }\n",
       "</style>\n",
       "<table border=\"1\" class=\"dataframe\">\n",
       "  <thead>\n",
       "    <tr style=\"text-align: right;\">\n",
       "      <th></th>\n",
       "      <th>Supp A</th>\n",
       "      <th>Supp B</th>\n",
       "      <th>Supp C</th>\n",
       "      <th>Supp D</th>\n",
       "      <th>Supp E</th>\n",
       "    </tr>\n",
       "  </thead>\n",
       "  <tbody>\n",
       "    <tr>\n",
       "      <th>Penalty Fee %</th>\n",
       "      <td>1</td>\n",
       "      <td>0.6</td>\n",
       "      <td>0.9</td>\n",
       "      <td>0.7</td>\n",
       "      <td>0.44</td>\n",
       "    </tr>\n",
       "  </tbody>\n",
       "</table>\n",
       "</div>"
      ],
      "text/plain": [
       "               Supp A  Supp B  Supp C  Supp D  Supp E\n",
       "Penalty Fee %       1     0.6     0.9     0.7    0.44"
      ]
     },
     "execution_count": 9,
     "metadata": {},
     "output_type": "execute_result"
    }
   ],
   "source": [
    "p = contract_penalties\n",
    "contract_penalties"
   ]
  },
  {
   "cell_type": "markdown",
   "id": "1cb3007b",
   "metadata": {},
   "source": [
    "### 2.6 Annual Contract Limit"
   ]
  },
  {
   "cell_type": "code",
   "execution_count": 10,
   "id": "3d6be119",
   "metadata": {},
   "outputs": [],
   "source": [
    "annual_contracted_limit= pd.read_excel(file_loc,sheet_name='Annual Contracted Limit',header=2, na_values=['NA'], usecols=\"B:F\")\n",
    "annual_contracted_limit = annual_contracted_limit.iloc[:5,:]\n",
    "annual_contracted_limit.index=alloy"
   ]
  },
  {
   "cell_type": "code",
   "execution_count": 11,
   "id": "95ed37a7",
   "metadata": {},
   "outputs": [
    {
     "data": {
      "text/html": [
       "<div>\n",
       "<style scoped>\n",
       "    .dataframe tbody tr th:only-of-type {\n",
       "        vertical-align: middle;\n",
       "    }\n",
       "\n",
       "    .dataframe tbody tr th {\n",
       "        vertical-align: top;\n",
       "    }\n",
       "\n",
       "    .dataframe thead th {\n",
       "        text-align: right;\n",
       "    }\n",
       "</style>\n",
       "<table border=\"1\" class=\"dataframe\">\n",
       "  <thead>\n",
       "    <tr style=\"text-align: right;\">\n",
       "      <th></th>\n",
       "      <th>Supp A</th>\n",
       "      <th>Supp B</th>\n",
       "      <th>Supp C</th>\n",
       "      <th>Supp D</th>\n",
       "      <th>Supp E</th>\n",
       "    </tr>\n",
       "  </thead>\n",
       "  <tbody>\n",
       "    <tr>\n",
       "      <th>all_1</th>\n",
       "      <td>10927.5</td>\n",
       "      <td>6556.5</td>\n",
       "      <td>4371.0</td>\n",
       "      <td>7867.8</td>\n",
       "      <td>9616.2</td>\n",
       "    </tr>\n",
       "    <tr>\n",
       "      <th>all_2</th>\n",
       "      <td>67200.0</td>\n",
       "      <td>33600.0</td>\n",
       "      <td>22400.0</td>\n",
       "      <td>44800.0</td>\n",
       "      <td>56000.0</td>\n",
       "    </tr>\n",
       "    <tr>\n",
       "      <th>all_3</th>\n",
       "      <td>17600.0</td>\n",
       "      <td>44000.0</td>\n",
       "      <td>35200.0</td>\n",
       "      <td>35200.0</td>\n",
       "      <td>44000.0</td>\n",
       "    </tr>\n",
       "    <tr>\n",
       "      <th>all_4</th>\n",
       "      <td>1560.0</td>\n",
       "      <td>1872.0</td>\n",
       "      <td>1768.0</td>\n",
       "      <td>3120.0</td>\n",
       "      <td>2080.0</td>\n",
       "    </tr>\n",
       "    <tr>\n",
       "      <th>all_5</th>\n",
       "      <td>1356.0</td>\n",
       "      <td>3616.0</td>\n",
       "      <td>2938.0</td>\n",
       "      <td>1130.0</td>\n",
       "      <td>2260.0</td>\n",
       "    </tr>\n",
       "  </tbody>\n",
       "</table>\n",
       "</div>"
      ],
      "text/plain": [
       "        Supp A   Supp B   Supp C   Supp D   Supp E\n",
       "all_1  10927.5   6556.5   4371.0   7867.8   9616.2\n",
       "all_2  67200.0  33600.0  22400.0  44800.0  56000.0\n",
       "all_3  17600.0  44000.0  35200.0  35200.0  44000.0\n",
       "all_4   1560.0   1872.0   1768.0   3120.0   2080.0\n",
       "all_5   1356.0   3616.0   2938.0   1130.0   2260.0"
      ]
     },
     "execution_count": 11,
     "metadata": {},
     "output_type": "execute_result"
    }
   ],
   "source": [
    "k = annual_contracted_limit\n",
    "annual_contracted_limit"
   ]
  },
  {
   "cell_type": "markdown",
   "id": "cd7bf5e3",
   "metadata": {},
   "source": [
    "### 2.7 Unit Cost"
   ]
  },
  {
   "cell_type": "code",
   "execution_count": 12,
   "id": "06026f92",
   "metadata": {},
   "outputs": [],
   "source": [
    "unit_cost = pd.read_excel(file_loc,sheet_name='Unit Cost',header=2, na_values=['NA'], usecols=\"B:F\")\n",
    "unit_cost = unit_cost.iloc[:5,:]\n",
    "unit_cost.index=alloy"
   ]
  },
  {
   "cell_type": "code",
   "execution_count": 13,
   "id": "5de2666f",
   "metadata": {},
   "outputs": [
    {
     "data": {
      "text/html": [
       "<div>\n",
       "<style scoped>\n",
       "    .dataframe tbody tr th:only-of-type {\n",
       "        vertical-align: middle;\n",
       "    }\n",
       "\n",
       "    .dataframe tbody tr th {\n",
       "        vertical-align: top;\n",
       "    }\n",
       "\n",
       "    .dataframe thead th {\n",
       "        text-align: right;\n",
       "    }\n",
       "</style>\n",
       "<table border=\"1\" class=\"dataframe\">\n",
       "  <thead>\n",
       "    <tr style=\"text-align: right;\">\n",
       "      <th></th>\n",
       "      <th>Supp A</th>\n",
       "      <th>Supp B</th>\n",
       "      <th>Supp C</th>\n",
       "      <th>Supp D</th>\n",
       "      <th>Supp E</th>\n",
       "    </tr>\n",
       "  </thead>\n",
       "  <tbody>\n",
       "    <tr>\n",
       "      <th>all_1</th>\n",
       "      <td>3300.0</td>\n",
       "      <td>3290.0</td>\n",
       "      <td>3295.0</td>\n",
       "      <td>3293.0</td>\n",
       "      <td>3285.0</td>\n",
       "    </tr>\n",
       "    <tr>\n",
       "      <th>all_2</th>\n",
       "      <td>135.0</td>\n",
       "      <td>128.0</td>\n",
       "      <td>133.0</td>\n",
       "      <td>130.0</td>\n",
       "      <td>125.0</td>\n",
       "    </tr>\n",
       "    <tr>\n",
       "      <th>all_3</th>\n",
       "      <td>28.0</td>\n",
       "      <td>22.0</td>\n",
       "      <td>26.0</td>\n",
       "      <td>24.0</td>\n",
       "      <td>20.0</td>\n",
       "    </tr>\n",
       "    <tr>\n",
       "      <th>all_4</th>\n",
       "      <td>10300.0</td>\n",
       "      <td>10260.0</td>\n",
       "      <td>10285.0</td>\n",
       "      <td>10270.0</td>\n",
       "      <td>10240.0</td>\n",
       "    </tr>\n",
       "    <tr>\n",
       "      <th>all_5</th>\n",
       "      <td>2530.0</td>\n",
       "      <td>2450.0</td>\n",
       "      <td>2500.0</td>\n",
       "      <td>2470.0</td>\n",
       "      <td>2430.0</td>\n",
       "    </tr>\n",
       "  </tbody>\n",
       "</table>\n",
       "</div>"
      ],
      "text/plain": [
       "        Supp A   Supp B   Supp C   Supp D   Supp E\n",
       "all_1   3300.0   3290.0   3295.0   3293.0   3285.0\n",
       "all_2    135.0    128.0    133.0    130.0    125.0\n",
       "all_3     28.0     22.0     26.0     24.0     20.0\n",
       "all_4  10300.0  10260.0  10285.0  10270.0  10240.0\n",
       "all_5   2530.0   2450.0   2500.0   2470.0   2430.0"
      ]
     },
     "execution_count": 13,
     "metadata": {},
     "output_type": "execute_result"
    }
   ],
   "source": [
    "c = unit_cost\n",
    "unit_cost"
   ]
  },
  {
   "cell_type": "markdown",
   "id": "495c5c1c",
   "metadata": {},
   "source": [
    "### 2.8 Product Revenue"
   ]
  },
  {
   "cell_type": "code",
   "execution_count": 14,
   "id": "403c9408-3097-437a-bd4c-6bd2f1c4b84f",
   "metadata": {},
   "outputs": [],
   "source": [
    "prod_rev = pd.read_excel(file_loc,sheet_name='Prod Rev',header=2, na_values=['NA'], usecols=\"B:F\")\n",
    "prod_rev.index=['Revenue ($)']"
   ]
  },
  {
   "cell_type": "code",
   "execution_count": 15,
   "id": "5a69f590",
   "metadata": {},
   "outputs": [
    {
     "data": {
      "text/html": [
       "<div>\n",
       "<style scoped>\n",
       "    .dataframe tbody tr th:only-of-type {\n",
       "        vertical-align: middle;\n",
       "    }\n",
       "\n",
       "    .dataframe tbody tr th {\n",
       "        vertical-align: top;\n",
       "    }\n",
       "\n",
       "    .dataframe thead th {\n",
       "        text-align: right;\n",
       "    }\n",
       "</style>\n",
       "<table border=\"1\" class=\"dataframe\">\n",
       "  <thead>\n",
       "    <tr style=\"text-align: right;\">\n",
       "      <th></th>\n",
       "      <th>Prod 1</th>\n",
       "      <th>Prod 2</th>\n",
       "      <th>Prod 3</th>\n",
       "    </tr>\n",
       "  </thead>\n",
       "  <tbody>\n",
       "    <tr>\n",
       "      <th>Revenue ($)</th>\n",
       "      <td>185000</td>\n",
       "      <td>180000</td>\n",
       "      <td>270000</td>\n",
       "    </tr>\n",
       "  </tbody>\n",
       "</table>\n",
       "</div>"
      ],
      "text/plain": [
       "             Prod 1  Prod 2  Prod 3\n",
       "Revenue ($)  185000  180000  270000"
      ]
     },
     "execution_count": 15,
     "metadata": {},
     "output_type": "execute_result"
    }
   ],
   "source": [
    "r = prod_rev\n",
    "prod_rev"
   ]
  },
  {
   "cell_type": "markdown",
   "id": "ff545859",
   "metadata": {},
   "source": [
    "### 2.9 Product Recipe"
   ]
  },
  {
   "cell_type": "code",
   "execution_count": 16,
   "id": "33e5e3e0",
   "metadata": {},
   "outputs": [],
   "source": [
    "prod_recipe= pd.read_excel(file_loc,sheet_name='Prod Recipe',header=2, na_values=['NA'], usecols=\"B:D\")\n",
    "prod_recipe = prod_recipe.iloc[:5,:]\n",
    "prod_recipe.index=alloy"
   ]
  },
  {
   "cell_type": "code",
   "execution_count": 17,
   "id": "6959cbc7",
   "metadata": {},
   "outputs": [
    {
     "data": {
      "text/html": [
       "<div>\n",
       "<style scoped>\n",
       "    .dataframe tbody tr th:only-of-type {\n",
       "        vertical-align: middle;\n",
       "    }\n",
       "\n",
       "    .dataframe tbody tr th {\n",
       "        vertical-align: top;\n",
       "    }\n",
       "\n",
       "    .dataframe thead th {\n",
       "        text-align: right;\n",
       "    }\n",
       "</style>\n",
       "<table border=\"1\" class=\"dataframe\">\n",
       "  <thead>\n",
       "    <tr style=\"text-align: right;\">\n",
       "      <th></th>\n",
       "      <th>Prod 1</th>\n",
       "      <th>Prod 2</th>\n",
       "      <th>Prod 3</th>\n",
       "    </tr>\n",
       "  </thead>\n",
       "  <tbody>\n",
       "    <tr>\n",
       "      <th>all_1</th>\n",
       "      <td>21.855</td>\n",
       "      <td>10.9275</td>\n",
       "      <td>43.71</td>\n",
       "    </tr>\n",
       "    <tr>\n",
       "      <th>all_2</th>\n",
       "      <td>67.200</td>\n",
       "      <td>336.0000</td>\n",
       "      <td>268.80</td>\n",
       "    </tr>\n",
       "    <tr>\n",
       "      <th>all_3</th>\n",
       "      <td>0.000</td>\n",
       "      <td>308.0000</td>\n",
       "      <td>176.00</td>\n",
       "    </tr>\n",
       "    <tr>\n",
       "      <th>all_4</th>\n",
       "      <td>7.280</td>\n",
       "      <td>5.2000</td>\n",
       "      <td>6.24</td>\n",
       "    </tr>\n",
       "    <tr>\n",
       "      <th>all_5</th>\n",
       "      <td>5.650</td>\n",
       "      <td>11.3000</td>\n",
       "      <td>2.26</td>\n",
       "    </tr>\n",
       "  </tbody>\n",
       "</table>\n",
       "</div>"
      ],
      "text/plain": [
       "       Prod 1    Prod 2  Prod 3\n",
       "all_1  21.855   10.9275   43.71\n",
       "all_2  67.200  336.0000  268.80\n",
       "all_3   0.000  308.0000  176.00\n",
       "all_4   7.280    5.2000    6.24\n",
       "all_5   5.650   11.3000    2.26"
      ]
     },
     "execution_count": 17,
     "metadata": {},
     "output_type": "execute_result"
    }
   ],
   "source": [
    "u = prod_recipe\n",
    "prod_recipe"
   ]
  },
  {
   "cell_type": "markdown",
   "id": "0363f0c7",
   "metadata": {},
   "source": [
    "### 2.10 Predicted Demand"
   ]
  },
  {
   "cell_type": "code",
   "execution_count": 18,
   "id": "07fb9bc9",
   "metadata": {},
   "outputs": [],
   "source": [
    "predicted_demand= pd.read_excel(file_loc,sheet_name='Predicted Demand',header=2, na_values=['NA'], usecols=\"B:D\")\n",
    "predicted_demand.index=month"
   ]
  },
  {
   "cell_type": "code",
   "execution_count": 19,
   "id": "c36a979e",
   "metadata": {},
   "outputs": [
    {
     "data": {
      "text/html": [
       "<div>\n",
       "<style scoped>\n",
       "    .dataframe tbody tr th:only-of-type {\n",
       "        vertical-align: middle;\n",
       "    }\n",
       "\n",
       "    .dataframe tbody tr th {\n",
       "        vertical-align: top;\n",
       "    }\n",
       "\n",
       "    .dataframe thead th {\n",
       "        text-align: right;\n",
       "    }\n",
       "</style>\n",
       "<table border=\"1\" class=\"dataframe\">\n",
       "  <thead>\n",
       "    <tr style=\"text-align: right;\">\n",
       "      <th></th>\n",
       "      <th>Prod 1</th>\n",
       "      <th>Prod 2</th>\n",
       "      <th>Prod 3</th>\n",
       "    </tr>\n",
       "  </thead>\n",
       "  <tbody>\n",
       "    <tr>\n",
       "      <th>Init</th>\n",
       "      <td>0.0</td>\n",
       "      <td>0.0</td>\n",
       "      <td>0.0</td>\n",
       "    </tr>\n",
       "    <tr>\n",
       "      <th>Jan</th>\n",
       "      <td>48.4</td>\n",
       "      <td>11.0</td>\n",
       "      <td>13.2</td>\n",
       "    </tr>\n",
       "    <tr>\n",
       "      <th>Feb</th>\n",
       "      <td>44.0</td>\n",
       "      <td>13.2</td>\n",
       "      <td>16.5</td>\n",
       "    </tr>\n",
       "    <tr>\n",
       "      <th>Mar</th>\n",
       "      <td>33.0</td>\n",
       "      <td>15.4</td>\n",
       "      <td>16.5</td>\n",
       "    </tr>\n",
       "    <tr>\n",
       "      <th>Apr</th>\n",
       "      <td>35.2</td>\n",
       "      <td>11.0</td>\n",
       "      <td>16.5</td>\n",
       "    </tr>\n",
       "    <tr>\n",
       "      <th>May</th>\n",
       "      <td>39.6</td>\n",
       "      <td>16.5</td>\n",
       "      <td>22.0</td>\n",
       "    </tr>\n",
       "    <tr>\n",
       "      <th>Jun</th>\n",
       "      <td>44.0</td>\n",
       "      <td>27.5</td>\n",
       "      <td>27.5</td>\n",
       "    </tr>\n",
       "    <tr>\n",
       "      <th>Jul</th>\n",
       "      <td>39.6</td>\n",
       "      <td>24.2</td>\n",
       "      <td>35.2</td>\n",
       "    </tr>\n",
       "    <tr>\n",
       "      <th>Aug</th>\n",
       "      <td>44.0</td>\n",
       "      <td>22.0</td>\n",
       "      <td>30.8</td>\n",
       "    </tr>\n",
       "    <tr>\n",
       "      <th>Sep</th>\n",
       "      <td>35.2</td>\n",
       "      <td>19.8</td>\n",
       "      <td>24.2</td>\n",
       "    </tr>\n",
       "    <tr>\n",
       "      <th>Oct</th>\n",
       "      <td>38.5</td>\n",
       "      <td>19.8</td>\n",
       "      <td>24.2</td>\n",
       "    </tr>\n",
       "    <tr>\n",
       "      <th>Nov</th>\n",
       "      <td>66.0</td>\n",
       "      <td>22.0</td>\n",
       "      <td>22.0</td>\n",
       "    </tr>\n",
       "    <tr>\n",
       "      <th>Dec</th>\n",
       "      <td>82.5</td>\n",
       "      <td>17.6</td>\n",
       "      <td>26.4</td>\n",
       "    </tr>\n",
       "  </tbody>\n",
       "</table>\n",
       "</div>"
      ],
      "text/plain": [
       "      Prod 1  Prod 2  Prod 3\n",
       "Init     0.0     0.0     0.0\n",
       "Jan     48.4    11.0    13.2\n",
       "Feb     44.0    13.2    16.5\n",
       "Mar     33.0    15.4    16.5\n",
       "Apr     35.2    11.0    16.5\n",
       "May     39.6    16.5    22.0\n",
       "Jun     44.0    27.5    27.5\n",
       "Jul     39.6    24.2    35.2\n",
       "Aug     44.0    22.0    30.8\n",
       "Sep     35.2    19.8    24.2\n",
       "Oct     38.5    19.8    24.2\n",
       "Nov     66.0    22.0    22.0\n",
       "Dec     82.5    17.6    26.4"
      ]
     },
     "execution_count": 19,
     "metadata": {},
     "output_type": "execute_result"
    }
   ],
   "source": [
    "d = predicted_demand\n",
    "predicted_demand"
   ]
  },
  {
   "cell_type": "markdown",
   "id": "51fd64c5-0987-41ca-b547-c0356733609c",
   "metadata": {},
   "source": [
    "# 3. Baseline Model"
   ]
  },
  {
   "cell_type": "code",
   "execution_count": 20,
   "id": "864d3311-41b3-4a27-bdcf-48e819bdb98b",
   "metadata": {},
   "outputs": [
    {
     "data": {
      "text/html": [
       "<div>\n",
       "<style scoped>\n",
       "    .dataframe tbody tr th:only-of-type {\n",
       "        vertical-align: middle;\n",
       "    }\n",
       "\n",
       "    .dataframe tbody tr th {\n",
       "        vertical-align: top;\n",
       "    }\n",
       "\n",
       "    .dataframe thead th {\n",
       "        text-align: right;\n",
       "    }\n",
       "</style>\n",
       "<table border=\"1\" class=\"dataframe\">\n",
       "  <thead>\n",
       "    <tr style=\"text-align: right;\">\n",
       "      <th></th>\n",
       "      <th>all_1</th>\n",
       "      <th>all_2</th>\n",
       "      <th>all_3</th>\n",
       "      <th>all_4</th>\n",
       "      <th>all_5</th>\n",
       "    </tr>\n",
       "  </thead>\n",
       "  <tbody>\n",
       "    <tr>\n",
       "      <th>Init</th>\n",
       "      <td>0.00000</td>\n",
       "      <td>0.00</td>\n",
       "      <td>0.0</td>\n",
       "      <td>0.000</td>\n",
       "      <td>0.000</td>\n",
       "    </tr>\n",
       "    <tr>\n",
       "      <th>Jan</th>\n",
       "      <td>1754.95650</td>\n",
       "      <td>10496.64</td>\n",
       "      <td>5711.2</td>\n",
       "      <td>491.920</td>\n",
       "      <td>427.592</td>\n",
       "    </tr>\n",
       "    <tr>\n",
       "      <th>Feb</th>\n",
       "      <td>1827.07800</td>\n",
       "      <td>11827.20</td>\n",
       "      <td>6969.6</td>\n",
       "      <td>491.920</td>\n",
       "      <td>435.050</td>\n",
       "    </tr>\n",
       "    <tr>\n",
       "      <th>Mar</th>\n",
       "      <td>1610.71350</td>\n",
       "      <td>11827.20</td>\n",
       "      <td>7647.2</td>\n",
       "      <td>423.280</td>\n",
       "      <td>397.760</td>\n",
       "    </tr>\n",
       "    <tr>\n",
       "      <th>Apr</th>\n",
       "      <td>1610.71350</td>\n",
       "      <td>10496.64</td>\n",
       "      <td>6292.0</td>\n",
       "      <td>416.416</td>\n",
       "      <td>360.470</td>\n",
       "    </tr>\n",
       "    <tr>\n",
       "      <th>May</th>\n",
       "      <td>2007.38175</td>\n",
       "      <td>14118.72</td>\n",
       "      <td>8954.0</td>\n",
       "      <td>511.368</td>\n",
       "      <td>459.910</td>\n",
       "    </tr>\n",
       "    <tr>\n",
       "      <th>Jun</th>\n",
       "      <td>2464.15125</td>\n",
       "      <td>19588.80</td>\n",
       "      <td>13310.0</td>\n",
       "      <td>634.920</td>\n",
       "      <td>621.500</td>\n",
       "    </tr>\n",
       "    <tr>\n",
       "      <th>Jul</th>\n",
       "      <td>2668.49550</td>\n",
       "      <td>20254.08</td>\n",
       "      <td>13648.8</td>\n",
       "      <td>633.776</td>\n",
       "      <td>576.752</td>\n",
       "    </tr>\n",
       "    <tr>\n",
       "      <th>Aug</th>\n",
       "      <td>2548.29300</td>\n",
       "      <td>18627.84</td>\n",
       "      <td>12196.8</td>\n",
       "      <td>626.912</td>\n",
       "      <td>566.808</td>\n",
       "    </tr>\n",
       "    <tr>\n",
       "      <th>Sep</th>\n",
       "      <td>2043.44250</td>\n",
       "      <td>15523.20</td>\n",
       "      <td>10357.6</td>\n",
       "      <td>510.224</td>\n",
       "      <td>477.312</td>\n",
       "    </tr>\n",
       "    <tr>\n",
       "      <th>Oct</th>\n",
       "      <td>2115.56400</td>\n",
       "      <td>15744.96</td>\n",
       "      <td>10357.6</td>\n",
       "      <td>534.248</td>\n",
       "      <td>495.957</td>\n",
       "    </tr>\n",
       "    <tr>\n",
       "      <th>Nov</th>\n",
       "      <td>2644.45500</td>\n",
       "      <td>17740.80</td>\n",
       "      <td>10648.0</td>\n",
       "      <td>732.160</td>\n",
       "      <td>671.220</td>\n",
       "    </tr>\n",
       "    <tr>\n",
       "      <th>Dec</th>\n",
       "      <td>3149.30550</td>\n",
       "      <td>18553.92</td>\n",
       "      <td>10067.2</td>\n",
       "      <td>856.856</td>\n",
       "      <td>724.669</td>\n",
       "    </tr>\n",
       "  </tbody>\n",
       "</table>\n",
       "</div>"
      ],
      "text/plain": [
       "           all_1     all_2    all_3    all_4    all_5\n",
       "Init     0.00000      0.00      0.0    0.000    0.000\n",
       "Jan   1754.95650  10496.64   5711.2  491.920  427.592\n",
       "Feb   1827.07800  11827.20   6969.6  491.920  435.050\n",
       "Mar   1610.71350  11827.20   7647.2  423.280  397.760\n",
       "Apr   1610.71350  10496.64   6292.0  416.416  360.470\n",
       "May   2007.38175  14118.72   8954.0  511.368  459.910\n",
       "Jun   2464.15125  19588.80  13310.0  634.920  621.500\n",
       "Jul   2668.49550  20254.08  13648.8  633.776  576.752\n",
       "Aug   2548.29300  18627.84  12196.8  626.912  566.808\n",
       "Sep   2043.44250  15523.20  10357.6  510.224  477.312\n",
       "Oct   2115.56400  15744.96  10357.6  534.248  495.957\n",
       "Nov   2644.45500  17740.80  10648.0  732.160  671.220\n",
       "Dec   3149.30550  18553.92  10067.2  856.856  724.669"
      ]
     },
     "execution_count": 20,
     "metadata": {},
     "output_type": "execute_result"
    }
   ],
   "source": [
    "alloy_demand = predicted_demand @ prod_recipe.T\n",
    "alloy_demand"
   ]
  },
  {
   "cell_type": "code",
   "execution_count": 24,
   "id": "1472d292-5685-493f-a362-0a4193620991",
   "metadata": {},
   "outputs": [
    {
     "ename": "IndentationError",
     "evalue": "unexpected indent (<ipython-input-24-c08f7e8aa7a0>, line 12)",
     "output_type": "error",
     "traceback": [
      "\u001b[1;36m  File \u001b[1;32m\"<ipython-input-24-c08f7e8aa7a0>\"\u001b[1;36m, line \u001b[1;32m12\u001b[0m\n\u001b[1;33m    while dem > 0:\u001b[0m\n\u001b[1;37m    ^\u001b[0m\n\u001b[1;31mIndentationError\u001b[0m\u001b[1;31m:\u001b[0m unexpected indent\n"
     ]
    }
   ],
   "source": [
    "cap_tracker = annual_contracted_limit.copy()\n",
    "\n",
    "def order(a):\n",
    "    orders = pd.DataFrame(np.zeros(M, S), index=month, columns=supplier)\n",
    "    cap_tracker = annual_contracted_limit.loc[a].copy()\n",
    "    \n",
    "    for m in month:\n",
    "        dem = alloy_demand.loc[m, a]\n",
    "        sup_prices = unit_cost.loc[a]\n",
    "        thresh_tracker = contract_upper_threshold.loc[a].copy()\n",
    "        \n",
    "        while dem > 0:            \n",
    "            for s in supplier:\n",
    "                if cap_tracker[s] == 0:\n",
    "                    # Prohibit buying from suppliers with depleted stock for the year\n",
    "                    sup_prices[s] = np.inf\n",
    "\n",
    "                elif thresh_tracker[s] <= 0:\n",
    "                    # Update pricing if month threshoold exceeded\n",
    "                    sup_prices[s] = unit_cost.loc[a, s]*(1+contract_penalties[s])\n",
    "\n",
    "            s_min = sup_prices.idxmin()\n",
    "\n",
    "            if thresh_tracker[s_min] > 0: # have not exceeded monthly threshold yet\n",
    "                # make an order that does not exceed monthly threshold, remaining demand, and remaining annual capacity\n",
    "                order = min(thresh_tracker[s_min], cap_tracker[s_min], dem)\n",
    "                # Update trackers\n",
    "                dem -= order\n",
    "                cap_tracker[s_min]-=order\n",
    "                thresh_tracker[s_min]-=order\n",
    "                orders.loc[m, s_min]+=order\n",
    "\n",
    "            else: # Monthly theshold exceeded but still best option\n",
    "                order = min(thresh_tracker[s_min], cap_tracker[s_min], dem\n",
    "\n",
    "\n",
    "                    \n",
    "                    \n",
    "                        \n",
    "            \n",
    "            \n",
    "    return orders"
   ]
  }
 ],
 "metadata": {
  "kernelspec": {
   "display_name": "Python 3",
   "language": "python",
   "name": "python3"
  },
  "language_info": {
   "codemirror_mode": {
    "name": "ipython",
    "version": 3
   },
   "file_extension": ".py",
   "mimetype": "text/x-python",
   "name": "python",
   "nbconvert_exporter": "python",
   "pygments_lexer": "ipython3",
   "version": "3.8.8"
  }
 },
 "nbformat": 4,
 "nbformat_minor": 5
}
