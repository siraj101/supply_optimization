{
 "cells": [
  {
   "cell_type": "markdown",
   "id": "10f986bc",
   "metadata": {},
   "source": [
    "# 1. Environment Setup"
   ]
  },
  {
   "cell_type": "code",
   "execution_count": 1,
   "id": "4d6d3872",
   "metadata": {},
   "outputs": [],
   "source": [
    "import math\n",
    "import numpy as np\n",
    "import pandas as pd"
   ]
  },
  {
   "cell_type": "code",
   "execution_count": 2,
   "id": "6c99d179-fe29-4935-b645-e82307d1bfac",
   "metadata": {},
   "outputs": [],
   "source": [
    "demand_type = 'seasonal'"
   ]
  },
  {
   "cell_type": "markdown",
   "id": "1b1bff81",
   "metadata": {},
   "source": [
    "# 2. Data Acquisition"
   ]
  },
  {
   "cell_type": "markdown",
   "id": "648d971e",
   "metadata": {},
   "source": [
    "### 2.1 Variables Definition"
   ]
  },
  {
   "cell_type": "code",
   "execution_count": 3,
   "id": "7f8b9819",
   "metadata": {},
   "outputs": [],
   "source": [
    "alloy = ['all_1','all_2','all_3','all_4','all_5']\n",
    "supplier = ['sup_1','sup_2','sup_3','sup_4','sup_5']\n",
    "product = ['prod_1','prod_2','prod_3']\n",
    "month = ['Init', 'Jan','Feb','Mar','Apr','May','Jun','Jul','Aug','Sep','Oct','Nov','Dec']\n",
    "A = len(alloy)\n",
    "S = len(supplier)\n",
    "P = len(product)\n",
    "M = len(month)\n",
    "q = 0.05\n",
    "mu = 1"
   ]
  },
  {
   "cell_type": "markdown",
   "id": "9dac37ad",
   "metadata": {},
   "source": [
    "### 2.2 Data Filepath"
   ]
  },
  {
   "cell_type": "code",
   "execution_count": 4,
   "id": "c8683818",
   "metadata": {},
   "outputs": [],
   "source": [
    "file_loc = 'Data Templates.xlsx'"
   ]
  },
  {
   "cell_type": "markdown",
   "id": "45fde513",
   "metadata": {},
   "source": [
    "### 2.3 Contract Upper Threshold"
   ]
  },
  {
   "cell_type": "code",
   "execution_count": 5,
   "id": "637e1bb3",
   "metadata": {},
   "outputs": [
    {
     "name": "stderr",
     "output_type": "stream",
     "text": [
      "C:\\Users\\siraj\\anaconda3\\lib\\site-packages\\openpyxl\\worksheet\\_reader.py:312: UserWarning: Conditional Formatting extension is not supported and will be removed\n",
      "  warn(msg)\n"
     ]
    }
   ],
   "source": [
    "contract_upper_threshold = pd.read_excel(file_loc,sheet_name='Contract Upper Threshold',header=2, na_values=['NA'], usecols=\"B:F\")\n",
    "contract_upper_threshold.index=alloy\n",
    "contract_upper_threshold.columns=supplier"
   ]
  },
  {
   "cell_type": "code",
   "execution_count": 6,
   "id": "afc65945",
   "metadata": {},
   "outputs": [
    {
     "data": {
      "text/html": [
       "<div>\n",
       "<style scoped>\n",
       "    .dataframe tbody tr th:only-of-type {\n",
       "        vertical-align: middle;\n",
       "    }\n",
       "\n",
       "    .dataframe tbody tr th {\n",
       "        vertical-align: top;\n",
       "    }\n",
       "\n",
       "    .dataframe thead th {\n",
       "        text-align: right;\n",
       "    }\n",
       "</style>\n",
       "<table border=\"1\" class=\"dataframe\">\n",
       "  <thead>\n",
       "    <tr style=\"text-align: right;\">\n",
       "      <th></th>\n",
       "      <th>sup_1</th>\n",
       "      <th>sup_2</th>\n",
       "      <th>sup_3</th>\n",
       "      <th>sup_4</th>\n",
       "      <th>sup_5</th>\n",
       "    </tr>\n",
       "  </thead>\n",
       "  <tbody>\n",
       "    <tr>\n",
       "      <th>all_1</th>\n",
       "      <td>750.000000</td>\n",
       "      <td>375.000000</td>\n",
       "      <td>625.000000</td>\n",
       "      <td>416.666667</td>\n",
       "      <td>333.333333</td>\n",
       "    </tr>\n",
       "    <tr>\n",
       "      <th>all_2</th>\n",
       "      <td>5000.000000</td>\n",
       "      <td>833.333333</td>\n",
       "      <td>2750.000000</td>\n",
       "      <td>1666.666667</td>\n",
       "      <td>416.666667</td>\n",
       "    </tr>\n",
       "    <tr>\n",
       "      <th>all_3</th>\n",
       "      <td>3750.000000</td>\n",
       "      <td>1250.000000</td>\n",
       "      <td>2916.666667</td>\n",
       "      <td>2104.166667</td>\n",
       "      <td>437.500000</td>\n",
       "    </tr>\n",
       "    <tr>\n",
       "      <th>all_4</th>\n",
       "      <td>208.333333</td>\n",
       "      <td>83.333333</td>\n",
       "      <td>187.500000</td>\n",
       "      <td>145.833333</td>\n",
       "      <td>41.666667</td>\n",
       "    </tr>\n",
       "    <tr>\n",
       "      <th>all_5</th>\n",
       "      <td>250.000000</td>\n",
       "      <td>95.833333</td>\n",
       "      <td>191.666667</td>\n",
       "      <td>150.000000</td>\n",
       "      <td>43.333333</td>\n",
       "    </tr>\n",
       "  </tbody>\n",
       "</table>\n",
       "</div>"
      ],
      "text/plain": [
       "             sup_1        sup_2        sup_3        sup_4       sup_5\n",
       "all_1   750.000000   375.000000   625.000000   416.666667  333.333333\n",
       "all_2  5000.000000   833.333333  2750.000000  1666.666667  416.666667\n",
       "all_3  3750.000000  1250.000000  2916.666667  2104.166667  437.500000\n",
       "all_4   208.333333    83.333333   187.500000   145.833333   41.666667\n",
       "all_5   250.000000    95.833333   191.666667   150.000000   43.333333"
      ]
     },
     "execution_count": 6,
     "metadata": {},
     "output_type": "execute_result"
    }
   ],
   "source": [
    "h = contract_upper_threshold\n",
    "contract_upper_threshold"
   ]
  },
  {
   "cell_type": "markdown",
   "id": "9b4a7408",
   "metadata": {},
   "source": [
    "### 2.4 Contract Lower Threshold"
   ]
  },
  {
   "cell_type": "code",
   "execution_count": 7,
   "id": "55a7c1fa",
   "metadata": {},
   "outputs": [],
   "source": [
    "contract_lower_threshold = pd.read_excel(file_loc,sheet_name='Contract Lower Threshold',header=2, na_values=['NA'], usecols=\"B:F\")\n",
    "contract_lower_threshold.index=alloy\n",
    "contract_lower_threshold.columns=supplier"
   ]
  },
  {
   "cell_type": "code",
   "execution_count": 8,
   "id": "293deebe",
   "metadata": {},
   "outputs": [
    {
     "data": {
      "text/html": [
       "<div>\n",
       "<style scoped>\n",
       "    .dataframe tbody tr th:only-of-type {\n",
       "        vertical-align: middle;\n",
       "    }\n",
       "\n",
       "    .dataframe tbody tr th {\n",
       "        vertical-align: top;\n",
       "    }\n",
       "\n",
       "    .dataframe thead th {\n",
       "        text-align: right;\n",
       "    }\n",
       "</style>\n",
       "<table border=\"1\" class=\"dataframe\">\n",
       "  <thead>\n",
       "    <tr style=\"text-align: right;\">\n",
       "      <th></th>\n",
       "      <th>sup_1</th>\n",
       "      <th>sup_2</th>\n",
       "      <th>sup_3</th>\n",
       "      <th>sup_4</th>\n",
       "      <th>sup_5</th>\n",
       "    </tr>\n",
       "  </thead>\n",
       "  <tbody>\n",
       "    <tr>\n",
       "      <th>all_1</th>\n",
       "      <td>208.333333</td>\n",
       "      <td>291.666667</td>\n",
       "      <td>333.333333</td>\n",
       "      <td>375.000000</td>\n",
       "      <td>312.500000</td>\n",
       "    </tr>\n",
       "    <tr>\n",
       "      <th>all_2</th>\n",
       "      <td>2520.833333</td>\n",
       "      <td>416.666667</td>\n",
       "      <td>833.333333</td>\n",
       "      <td>500.000000</td>\n",
       "      <td>208.333333</td>\n",
       "    </tr>\n",
       "    <tr>\n",
       "      <th>all_3</th>\n",
       "      <td>850.000000</td>\n",
       "      <td>833.333333</td>\n",
       "      <td>1250.000000</td>\n",
       "      <td>1270.833333</td>\n",
       "      <td>429.166667</td>\n",
       "    </tr>\n",
       "    <tr>\n",
       "      <th>all_4</th>\n",
       "      <td>20.833333</td>\n",
       "      <td>50.000000</td>\n",
       "      <td>41.666667</td>\n",
       "      <td>54.166667</td>\n",
       "      <td>33.333333</td>\n",
       "    </tr>\n",
       "    <tr>\n",
       "      <th>all_5</th>\n",
       "      <td>41.666667</td>\n",
       "      <td>58.333333</td>\n",
       "      <td>44.166667</td>\n",
       "      <td>66.666667</td>\n",
       "      <td>34.166667</td>\n",
       "    </tr>\n",
       "  </tbody>\n",
       "</table>\n",
       "</div>"
      ],
      "text/plain": [
       "             sup_1       sup_2        sup_3        sup_4       sup_5\n",
       "all_1   208.333333  291.666667   333.333333   375.000000  312.500000\n",
       "all_2  2520.833333  416.666667   833.333333   500.000000  208.333333\n",
       "all_3   850.000000  833.333333  1250.000000  1270.833333  429.166667\n",
       "all_4    20.833333   50.000000    41.666667    54.166667   33.333333\n",
       "all_5    41.666667   58.333333    44.166667    66.666667   34.166667"
      ]
     },
     "execution_count": 8,
     "metadata": {},
     "output_type": "execute_result"
    }
   ],
   "source": [
    "l = contract_lower_threshold\n",
    "contract_lower_threshold"
   ]
  },
  {
   "cell_type": "markdown",
   "id": "db68a5fb",
   "metadata": {},
   "source": [
    "### 2.5 Contract Penalties"
   ]
  },
  {
   "cell_type": "code",
   "execution_count": 9,
   "id": "14c7ad7e",
   "metadata": {},
   "outputs": [],
   "source": [
    "contract_penalties = pd.read_excel(file_loc,sheet_name='Contract Penalties',header=2, na_values=['NA'], usecols=\"B:F\")\n",
    "contract_penalties.index=['Penalty Fee %']\n",
    "contract_penalties.columns = supplier"
   ]
  },
  {
   "cell_type": "code",
   "execution_count": 10,
   "id": "1bb7541d",
   "metadata": {},
   "outputs": [
    {
     "data": {
      "text/html": [
       "<div>\n",
       "<style scoped>\n",
       "    .dataframe tbody tr th:only-of-type {\n",
       "        vertical-align: middle;\n",
       "    }\n",
       "\n",
       "    .dataframe tbody tr th {\n",
       "        vertical-align: top;\n",
       "    }\n",
       "\n",
       "    .dataframe thead th {\n",
       "        text-align: right;\n",
       "    }\n",
       "</style>\n",
       "<table border=\"1\" class=\"dataframe\">\n",
       "  <thead>\n",
       "    <tr style=\"text-align: right;\">\n",
       "      <th></th>\n",
       "      <th>sup_1</th>\n",
       "      <th>sup_2</th>\n",
       "      <th>sup_3</th>\n",
       "      <th>sup_4</th>\n",
       "      <th>sup_5</th>\n",
       "    </tr>\n",
       "  </thead>\n",
       "  <tbody>\n",
       "    <tr>\n",
       "      <th>Penalty Fee %</th>\n",
       "      <td>1</td>\n",
       "      <td>0.6</td>\n",
       "      <td>0.9</td>\n",
       "      <td>0.7</td>\n",
       "      <td>0.44</td>\n",
       "    </tr>\n",
       "  </tbody>\n",
       "</table>\n",
       "</div>"
      ],
      "text/plain": [
       "               sup_1  sup_2  sup_3  sup_4  sup_5\n",
       "Penalty Fee %      1    0.6    0.9    0.7   0.44"
      ]
     },
     "execution_count": 10,
     "metadata": {},
     "output_type": "execute_result"
    }
   ],
   "source": [
    "p = contract_penalties\n",
    "contract_penalties"
   ]
  },
  {
   "cell_type": "markdown",
   "id": "1cb3007b",
   "metadata": {},
   "source": [
    "### 2.6 Annual Contract Limit"
   ]
  },
  {
   "cell_type": "code",
   "execution_count": 11,
   "id": "3d6be119",
   "metadata": {},
   "outputs": [],
   "source": [
    "annual_contracted_limit= pd.read_excel(file_loc,sheet_name='Annual Contracted Limit',header=2, na_values=['NA'], usecols=\"B:F\")\n",
    "annual_contracted_limit = annual_contracted_limit.iloc[:5,:]\n",
    "annual_contracted_limit.index=alloy\n",
    "annual_contracted_limit.columns = supplier"
   ]
  },
  {
   "cell_type": "code",
   "execution_count": 12,
   "id": "95ed37a7",
   "metadata": {},
   "outputs": [
    {
     "data": {
      "text/html": [
       "<div>\n",
       "<style scoped>\n",
       "    .dataframe tbody tr th:only-of-type {\n",
       "        vertical-align: middle;\n",
       "    }\n",
       "\n",
       "    .dataframe tbody tr th {\n",
       "        vertical-align: top;\n",
       "    }\n",
       "\n",
       "    .dataframe thead th {\n",
       "        text-align: right;\n",
       "    }\n",
       "</style>\n",
       "<table border=\"1\" class=\"dataframe\">\n",
       "  <thead>\n",
       "    <tr style=\"text-align: right;\">\n",
       "      <th></th>\n",
       "      <th>sup_1</th>\n",
       "      <th>sup_2</th>\n",
       "      <th>sup_3</th>\n",
       "      <th>sup_4</th>\n",
       "      <th>sup_5</th>\n",
       "    </tr>\n",
       "  </thead>\n",
       "  <tbody>\n",
       "    <tr>\n",
       "      <th>all_1</th>\n",
       "      <td>10927.5</td>\n",
       "      <td>6556.5</td>\n",
       "      <td>4371.0</td>\n",
       "      <td>7867.8</td>\n",
       "      <td>9616.2</td>\n",
       "    </tr>\n",
       "    <tr>\n",
       "      <th>all_2</th>\n",
       "      <td>67200.0</td>\n",
       "      <td>33600.0</td>\n",
       "      <td>22400.0</td>\n",
       "      <td>44800.0</td>\n",
       "      <td>56000.0</td>\n",
       "    </tr>\n",
       "    <tr>\n",
       "      <th>all_3</th>\n",
       "      <td>17600.0</td>\n",
       "      <td>44000.0</td>\n",
       "      <td>35200.0</td>\n",
       "      <td>35200.0</td>\n",
       "      <td>44000.0</td>\n",
       "    </tr>\n",
       "    <tr>\n",
       "      <th>all_4</th>\n",
       "      <td>1560.0</td>\n",
       "      <td>1872.0</td>\n",
       "      <td>1768.0</td>\n",
       "      <td>3120.0</td>\n",
       "      <td>2080.0</td>\n",
       "    </tr>\n",
       "    <tr>\n",
       "      <th>all_5</th>\n",
       "      <td>1356.0</td>\n",
       "      <td>3616.0</td>\n",
       "      <td>2938.0</td>\n",
       "      <td>1130.0</td>\n",
       "      <td>2260.0</td>\n",
       "    </tr>\n",
       "  </tbody>\n",
       "</table>\n",
       "</div>"
      ],
      "text/plain": [
       "         sup_1    sup_2    sup_3    sup_4    sup_5\n",
       "all_1  10927.5   6556.5   4371.0   7867.8   9616.2\n",
       "all_2  67200.0  33600.0  22400.0  44800.0  56000.0\n",
       "all_3  17600.0  44000.0  35200.0  35200.0  44000.0\n",
       "all_4   1560.0   1872.0   1768.0   3120.0   2080.0\n",
       "all_5   1356.0   3616.0   2938.0   1130.0   2260.0"
      ]
     },
     "execution_count": 12,
     "metadata": {},
     "output_type": "execute_result"
    }
   ],
   "source": [
    "k = annual_contracted_limit\n",
    "annual_contracted_limit"
   ]
  },
  {
   "cell_type": "markdown",
   "id": "cd7bf5e3",
   "metadata": {},
   "source": [
    "### 2.7 Unit Cost"
   ]
  },
  {
   "cell_type": "code",
   "execution_count": 13,
   "id": "06026f92",
   "metadata": {},
   "outputs": [],
   "source": [
    "unit_cost = pd.read_excel(file_loc,sheet_name='Unit Cost',header=2, na_values=['NA'], usecols=\"B:F\")\n",
    "unit_cost = unit_cost.iloc[:5,:]\n",
    "unit_cost.index=alloy\n",
    "unit_cost.columns=supplier"
   ]
  },
  {
   "cell_type": "code",
   "execution_count": 14,
   "id": "5de2666f",
   "metadata": {},
   "outputs": [
    {
     "data": {
      "text/html": [
       "<div>\n",
       "<style scoped>\n",
       "    .dataframe tbody tr th:only-of-type {\n",
       "        vertical-align: middle;\n",
       "    }\n",
       "\n",
       "    .dataframe tbody tr th {\n",
       "        vertical-align: top;\n",
       "    }\n",
       "\n",
       "    .dataframe thead th {\n",
       "        text-align: right;\n",
       "    }\n",
       "</style>\n",
       "<table border=\"1\" class=\"dataframe\">\n",
       "  <thead>\n",
       "    <tr style=\"text-align: right;\">\n",
       "      <th></th>\n",
       "      <th>sup_1</th>\n",
       "      <th>sup_2</th>\n",
       "      <th>sup_3</th>\n",
       "      <th>sup_4</th>\n",
       "      <th>sup_5</th>\n",
       "    </tr>\n",
       "  </thead>\n",
       "  <tbody>\n",
       "    <tr>\n",
       "      <th>all_1</th>\n",
       "      <td>3300.0</td>\n",
       "      <td>3290.0</td>\n",
       "      <td>3295.0</td>\n",
       "      <td>3293.0</td>\n",
       "      <td>3285.0</td>\n",
       "    </tr>\n",
       "    <tr>\n",
       "      <th>all_2</th>\n",
       "      <td>135.0</td>\n",
       "      <td>128.0</td>\n",
       "      <td>133.0</td>\n",
       "      <td>130.0</td>\n",
       "      <td>125.0</td>\n",
       "    </tr>\n",
       "    <tr>\n",
       "      <th>all_3</th>\n",
       "      <td>28.0</td>\n",
       "      <td>22.0</td>\n",
       "      <td>26.0</td>\n",
       "      <td>24.0</td>\n",
       "      <td>20.0</td>\n",
       "    </tr>\n",
       "    <tr>\n",
       "      <th>all_4</th>\n",
       "      <td>10300.0</td>\n",
       "      <td>10260.0</td>\n",
       "      <td>10285.0</td>\n",
       "      <td>10270.0</td>\n",
       "      <td>10240.0</td>\n",
       "    </tr>\n",
       "    <tr>\n",
       "      <th>all_5</th>\n",
       "      <td>2530.0</td>\n",
       "      <td>2450.0</td>\n",
       "      <td>2500.0</td>\n",
       "      <td>2470.0</td>\n",
       "      <td>2430.0</td>\n",
       "    </tr>\n",
       "  </tbody>\n",
       "</table>\n",
       "</div>"
      ],
      "text/plain": [
       "         sup_1    sup_2    sup_3    sup_4    sup_5\n",
       "all_1   3300.0   3290.0   3295.0   3293.0   3285.0\n",
       "all_2    135.0    128.0    133.0    130.0    125.0\n",
       "all_3     28.0     22.0     26.0     24.0     20.0\n",
       "all_4  10300.0  10260.0  10285.0  10270.0  10240.0\n",
       "all_5   2530.0   2450.0   2500.0   2470.0   2430.0"
      ]
     },
     "execution_count": 14,
     "metadata": {},
     "output_type": "execute_result"
    }
   ],
   "source": [
    "c = unit_cost\n",
    "unit_cost"
   ]
  },
  {
   "cell_type": "markdown",
   "id": "495c5c1c",
   "metadata": {},
   "source": [
    "### 2.8 Product Revenue"
   ]
  },
  {
   "cell_type": "code",
   "execution_count": 15,
   "id": "403c9408-3097-437a-bd4c-6bd2f1c4b84f",
   "metadata": {},
   "outputs": [
    {
     "name": "stderr",
     "output_type": "stream",
     "text": [
      "C:\\Users\\siraj\\anaconda3\\lib\\site-packages\\pandas\\io\\excel\\_base.py:1272: FutureWarning: Defining usecols with out of bounds indices is deprecated and will raise a ParserError in a future version.\n",
      "  return self._reader.parse(\n"
     ]
    }
   ],
   "source": [
    "prod_rev = pd.read_excel(file_loc,sheet_name='Prod Rev',header=2, na_values=['NA'], usecols=\"B:F\")\n",
    "prod_rev.index=['Revenue ($)']"
   ]
  },
  {
   "cell_type": "code",
   "execution_count": 16,
   "id": "5a69f590",
   "metadata": {},
   "outputs": [
    {
     "data": {
      "text/html": [
       "<div>\n",
       "<style scoped>\n",
       "    .dataframe tbody tr th:only-of-type {\n",
       "        vertical-align: middle;\n",
       "    }\n",
       "\n",
       "    .dataframe tbody tr th {\n",
       "        vertical-align: top;\n",
       "    }\n",
       "\n",
       "    .dataframe thead th {\n",
       "        text-align: right;\n",
       "    }\n",
       "</style>\n",
       "<table border=\"1\" class=\"dataframe\">\n",
       "  <thead>\n",
       "    <tr style=\"text-align: right;\">\n",
       "      <th></th>\n",
       "      <th>Prod 1</th>\n",
       "      <th>Prod 2</th>\n",
       "      <th>Prod 3</th>\n",
       "    </tr>\n",
       "  </thead>\n",
       "  <tbody>\n",
       "    <tr>\n",
       "      <th>Revenue ($)</th>\n",
       "      <td>185000</td>\n",
       "      <td>180000</td>\n",
       "      <td>270000</td>\n",
       "    </tr>\n",
       "  </tbody>\n",
       "</table>\n",
       "</div>"
      ],
      "text/plain": [
       "             Prod 1  Prod 2  Prod 3\n",
       "Revenue ($)  185000  180000  270000"
      ]
     },
     "execution_count": 16,
     "metadata": {},
     "output_type": "execute_result"
    }
   ],
   "source": [
    "r = prod_rev\n",
    "prod_rev"
   ]
  },
  {
   "cell_type": "markdown",
   "id": "ff545859",
   "metadata": {},
   "source": [
    "### 2.9 Product Recipe"
   ]
  },
  {
   "cell_type": "code",
   "execution_count": 17,
   "id": "33e5e3e0",
   "metadata": {},
   "outputs": [],
   "source": [
    "prod_recipe= pd.read_excel(file_loc,sheet_name='Prod Recipe',header=2, na_values=['NA'], usecols=\"B:D\")\n",
    "prod_recipe = prod_recipe.iloc[:5,:]\n",
    "prod_recipe.index=alloy"
   ]
  },
  {
   "cell_type": "code",
   "execution_count": 18,
   "id": "6959cbc7",
   "metadata": {},
   "outputs": [
    {
     "data": {
      "text/html": [
       "<div>\n",
       "<style scoped>\n",
       "    .dataframe tbody tr th:only-of-type {\n",
       "        vertical-align: middle;\n",
       "    }\n",
       "\n",
       "    .dataframe tbody tr th {\n",
       "        vertical-align: top;\n",
       "    }\n",
       "\n",
       "    .dataframe thead th {\n",
       "        text-align: right;\n",
       "    }\n",
       "</style>\n",
       "<table border=\"1\" class=\"dataframe\">\n",
       "  <thead>\n",
       "    <tr style=\"text-align: right;\">\n",
       "      <th></th>\n",
       "      <th>Prod 1</th>\n",
       "      <th>Prod 2</th>\n",
       "      <th>Prod 3</th>\n",
       "    </tr>\n",
       "  </thead>\n",
       "  <tbody>\n",
       "    <tr>\n",
       "      <th>all_1</th>\n",
       "      <td>21.855</td>\n",
       "      <td>10.9275</td>\n",
       "      <td>43.71</td>\n",
       "    </tr>\n",
       "    <tr>\n",
       "      <th>all_2</th>\n",
       "      <td>67.200</td>\n",
       "      <td>336.0000</td>\n",
       "      <td>268.80</td>\n",
       "    </tr>\n",
       "    <tr>\n",
       "      <th>all_3</th>\n",
       "      <td>0.000</td>\n",
       "      <td>308.0000</td>\n",
       "      <td>176.00</td>\n",
       "    </tr>\n",
       "    <tr>\n",
       "      <th>all_4</th>\n",
       "      <td>7.280</td>\n",
       "      <td>5.2000</td>\n",
       "      <td>6.24</td>\n",
       "    </tr>\n",
       "    <tr>\n",
       "      <th>all_5</th>\n",
       "      <td>5.650</td>\n",
       "      <td>11.3000</td>\n",
       "      <td>2.26</td>\n",
       "    </tr>\n",
       "  </tbody>\n",
       "</table>\n",
       "</div>"
      ],
      "text/plain": [
       "       Prod 1    Prod 2  Prod 3\n",
       "all_1  21.855   10.9275   43.71\n",
       "all_2  67.200  336.0000  268.80\n",
       "all_3   0.000  308.0000  176.00\n",
       "all_4   7.280    5.2000    6.24\n",
       "all_5   5.650   11.3000    2.26"
      ]
     },
     "execution_count": 18,
     "metadata": {},
     "output_type": "execute_result"
    }
   ],
   "source": [
    "u = prod_recipe\n",
    "prod_recipe"
   ]
  },
  {
   "cell_type": "markdown",
   "id": "0363f0c7",
   "metadata": {},
   "source": [
    "### 2.10 Predicted Demand"
   ]
  },
  {
   "cell_type": "code",
   "execution_count": 19,
   "id": "07fb9bc9",
   "metadata": {},
   "outputs": [],
   "source": [
    "predicted_demand= pd.read_csv(demand_type+'/demand.csv', header=2, na_values=['NA'], index_col=0)\n",
    "predicted_demand.index=month"
   ]
  },
  {
   "cell_type": "code",
   "execution_count": 20,
   "id": "c36a979e",
   "metadata": {},
   "outputs": [
    {
     "data": {
      "text/html": [
       "<div>\n",
       "<style scoped>\n",
       "    .dataframe tbody tr th:only-of-type {\n",
       "        vertical-align: middle;\n",
       "    }\n",
       "\n",
       "    .dataframe tbody tr th {\n",
       "        vertical-align: top;\n",
       "    }\n",
       "\n",
       "    .dataframe thead th {\n",
       "        text-align: right;\n",
       "    }\n",
       "</style>\n",
       "<table border=\"1\" class=\"dataframe\">\n",
       "  <thead>\n",
       "    <tr style=\"text-align: right;\">\n",
       "      <th></th>\n",
       "      <th>Prod 1</th>\n",
       "      <th>Prod 2</th>\n",
       "      <th>Prod 3</th>\n",
       "    </tr>\n",
       "  </thead>\n",
       "  <tbody>\n",
       "    <tr>\n",
       "      <th>Init</th>\n",
       "      <td>0.000000</td>\n",
       "      <td>0.000000</td>\n",
       "      <td>0.000000</td>\n",
       "    </tr>\n",
       "    <tr>\n",
       "      <th>Jan</th>\n",
       "      <td>61.111111</td>\n",
       "      <td>24.444444</td>\n",
       "      <td>30.555556</td>\n",
       "    </tr>\n",
       "    <tr>\n",
       "      <th>Feb</th>\n",
       "      <td>59.064277</td>\n",
       "      <td>23.625711</td>\n",
       "      <td>29.532139</td>\n",
       "    </tr>\n",
       "    <tr>\n",
       "      <th>Mar</th>\n",
       "      <td>53.472222</td>\n",
       "      <td>21.388889</td>\n",
       "      <td>26.736111</td>\n",
       "    </tr>\n",
       "    <tr>\n",
       "      <th>Apr</th>\n",
       "      <td>45.833333</td>\n",
       "      <td>18.333333</td>\n",
       "      <td>22.916667</td>\n",
       "    </tr>\n",
       "    <tr>\n",
       "      <th>May</th>\n",
       "      <td>38.194444</td>\n",
       "      <td>15.277778</td>\n",
       "      <td>19.097222</td>\n",
       "    </tr>\n",
       "    <tr>\n",
       "      <th>Jun</th>\n",
       "      <td>32.602390</td>\n",
       "      <td>13.040956</td>\n",
       "      <td>16.301195</td>\n",
       "    </tr>\n",
       "    <tr>\n",
       "      <th>Jul</th>\n",
       "      <td>30.555556</td>\n",
       "      <td>12.222222</td>\n",
       "      <td>15.277778</td>\n",
       "    </tr>\n",
       "    <tr>\n",
       "      <th>Aug</th>\n",
       "      <td>32.602390</td>\n",
       "      <td>13.040956</td>\n",
       "      <td>16.301195</td>\n",
       "    </tr>\n",
       "    <tr>\n",
       "      <th>Sep</th>\n",
       "      <td>38.194444</td>\n",
       "      <td>15.277778</td>\n",
       "      <td>19.097222</td>\n",
       "    </tr>\n",
       "    <tr>\n",
       "      <th>Oct</th>\n",
       "      <td>45.833333</td>\n",
       "      <td>18.333333</td>\n",
       "      <td>22.916667</td>\n",
       "    </tr>\n",
       "    <tr>\n",
       "      <th>Nov</th>\n",
       "      <td>53.472222</td>\n",
       "      <td>21.388889</td>\n",
       "      <td>26.736111</td>\n",
       "    </tr>\n",
       "    <tr>\n",
       "      <th>Dec</th>\n",
       "      <td>59.064277</td>\n",
       "      <td>23.625711</td>\n",
       "      <td>29.532139</td>\n",
       "    </tr>\n",
       "  </tbody>\n",
       "</table>\n",
       "</div>"
      ],
      "text/plain": [
       "         Prod 1     Prod 2     Prod 3\n",
       "Init   0.000000   0.000000   0.000000\n",
       "Jan   61.111111  24.444444  30.555556\n",
       "Feb   59.064277  23.625711  29.532139\n",
       "Mar   53.472222  21.388889  26.736111\n",
       "Apr   45.833333  18.333333  22.916667\n",
       "May   38.194444  15.277778  19.097222\n",
       "Jun   32.602390  13.040956  16.301195\n",
       "Jul   30.555556  12.222222  15.277778\n",
       "Aug   32.602390  13.040956  16.301195\n",
       "Sep   38.194444  15.277778  19.097222\n",
       "Oct   45.833333  18.333333  22.916667\n",
       "Nov   53.472222  21.388889  26.736111\n",
       "Dec   59.064277  23.625711  29.532139"
      ]
     },
     "execution_count": 20,
     "metadata": {},
     "output_type": "execute_result"
    }
   ],
   "source": [
    "d = predicted_demand\n",
    "predicted_demand"
   ]
  },
  {
   "cell_type": "markdown",
   "id": "51fd64c5-0987-41ca-b547-c0356733609c",
   "metadata": {},
   "source": [
    "# 3. Baseline Model"
   ]
  },
  {
   "cell_type": "code",
   "execution_count": 21,
   "id": "864d3311-41b3-4a27-bdcf-48e819bdb98b",
   "metadata": {},
   "outputs": [
    {
     "data": {
      "text/html": [
       "<div>\n",
       "<style scoped>\n",
       "    .dataframe tbody tr th:only-of-type {\n",
       "        vertical-align: middle;\n",
       "    }\n",
       "\n",
       "    .dataframe tbody tr th {\n",
       "        vertical-align: top;\n",
       "    }\n",
       "\n",
       "    .dataframe thead th {\n",
       "        text-align: right;\n",
       "    }\n",
       "</style>\n",
       "<table border=\"1\" class=\"dataframe\">\n",
       "  <thead>\n",
       "    <tr style=\"text-align: right;\">\n",
       "      <th></th>\n",
       "      <th>all_1</th>\n",
       "      <th>all_2</th>\n",
       "      <th>all_3</th>\n",
       "      <th>all_4</th>\n",
       "      <th>all_5</th>\n",
       "    </tr>\n",
       "  </thead>\n",
       "  <tbody>\n",
       "    <tr>\n",
       "      <th>Init</th>\n",
       "      <td>0.000000</td>\n",
       "      <td>0.000000</td>\n",
       "      <td>0.000000</td>\n",
       "      <td>0.000000</td>\n",
       "      <td>0.000000</td>\n",
       "    </tr>\n",
       "    <tr>\n",
       "      <th>Jan</th>\n",
       "      <td>2938.283333</td>\n",
       "      <td>20533.333333</td>\n",
       "      <td>12906.666666</td>\n",
       "      <td>762.666667</td>\n",
       "      <td>690.555556</td>\n",
       "    </tr>\n",
       "    <tr>\n",
       "      <th>Feb</th>\n",
       "      <td>2839.869503</td>\n",
       "      <td>19845.597075</td>\n",
       "      <td>12474.375304</td>\n",
       "      <td>737.122177</td>\n",
       "      <td>667.426330</td>\n",
       "    </tr>\n",
       "    <tr>\n",
       "      <th>Mar</th>\n",
       "      <td>2570.997917</td>\n",
       "      <td>17966.666669</td>\n",
       "      <td>11293.333335</td>\n",
       "      <td>667.333333</td>\n",
       "      <td>604.236111</td>\n",
       "    </tr>\n",
       "    <tr>\n",
       "      <th>Apr</th>\n",
       "      <td>2203.712500</td>\n",
       "      <td>15400.000000</td>\n",
       "      <td>9680.000000</td>\n",
       "      <td>572.000000</td>\n",
       "      <td>517.916667</td>\n",
       "    </tr>\n",
       "    <tr>\n",
       "      <th>May</th>\n",
       "      <td>1836.427084</td>\n",
       "      <td>12833.333336</td>\n",
       "      <td>8066.666669</td>\n",
       "      <td>476.666667</td>\n",
       "      <td>431.597222</td>\n",
       "    </tr>\n",
       "    <tr>\n",
       "      <th>Jun</th>\n",
       "      <td>1567.555497</td>\n",
       "      <td>10954.402924</td>\n",
       "      <td>6885.624695</td>\n",
       "      <td>406.877823</td>\n",
       "      <td>368.407003</td>\n",
       "    </tr>\n",
       "    <tr>\n",
       "      <th>Jul</th>\n",
       "      <td>1469.141667</td>\n",
       "      <td>10266.666666</td>\n",
       "      <td>6453.333333</td>\n",
       "      <td>381.333333</td>\n",
       "      <td>345.277778</td>\n",
       "    </tr>\n",
       "    <tr>\n",
       "      <th>Aug</th>\n",
       "      <td>1567.555497</td>\n",
       "      <td>10954.402924</td>\n",
       "      <td>6885.624695</td>\n",
       "      <td>406.877823</td>\n",
       "      <td>368.407003</td>\n",
       "    </tr>\n",
       "    <tr>\n",
       "      <th>Sep</th>\n",
       "      <td>1836.427084</td>\n",
       "      <td>12833.333336</td>\n",
       "      <td>8066.666669</td>\n",
       "      <td>476.666667</td>\n",
       "      <td>431.597222</td>\n",
       "    </tr>\n",
       "    <tr>\n",
       "      <th>Oct</th>\n",
       "      <td>2203.712500</td>\n",
       "      <td>15400.000000</td>\n",
       "      <td>9680.000000</td>\n",
       "      <td>572.000000</td>\n",
       "      <td>517.916667</td>\n",
       "    </tr>\n",
       "    <tr>\n",
       "      <th>Nov</th>\n",
       "      <td>2570.997917</td>\n",
       "      <td>17966.666669</td>\n",
       "      <td>11293.333335</td>\n",
       "      <td>667.333333</td>\n",
       "      <td>604.236111</td>\n",
       "    </tr>\n",
       "    <tr>\n",
       "      <th>Dec</th>\n",
       "      <td>2839.869503</td>\n",
       "      <td>19845.597075</td>\n",
       "      <td>12474.375304</td>\n",
       "      <td>737.122177</td>\n",
       "      <td>667.426330</td>\n",
       "    </tr>\n",
       "  </tbody>\n",
       "</table>\n",
       "</div>"
      ],
      "text/plain": [
       "            all_1         all_2         all_3       all_4       all_5\n",
       "Init     0.000000      0.000000      0.000000    0.000000    0.000000\n",
       "Jan   2938.283333  20533.333333  12906.666666  762.666667  690.555556\n",
       "Feb   2839.869503  19845.597075  12474.375304  737.122177  667.426330\n",
       "Mar   2570.997917  17966.666669  11293.333335  667.333333  604.236111\n",
       "Apr   2203.712500  15400.000000   9680.000000  572.000000  517.916667\n",
       "May   1836.427084  12833.333336   8066.666669  476.666667  431.597222\n",
       "Jun   1567.555497  10954.402924   6885.624695  406.877823  368.407003\n",
       "Jul   1469.141667  10266.666666   6453.333333  381.333333  345.277778\n",
       "Aug   1567.555497  10954.402924   6885.624695  406.877823  368.407003\n",
       "Sep   1836.427084  12833.333336   8066.666669  476.666667  431.597222\n",
       "Oct   2203.712500  15400.000000   9680.000000  572.000000  517.916667\n",
       "Nov   2570.997917  17966.666669  11293.333335  667.333333  604.236111\n",
       "Dec   2839.869503  19845.597075  12474.375304  737.122177  667.426330"
      ]
     },
     "execution_count": 21,
     "metadata": {},
     "output_type": "execute_result"
    }
   ],
   "source": [
    "alloy_demand = predicted_demand @ prod_recipe.T\n",
    "alloy_demand"
   ]
  },
  {
   "cell_type": "code",
   "execution_count": 22,
   "id": "1472d292-5685-493f-a362-0a4193620991",
   "metadata": {},
   "outputs": [],
   "source": [
    "def order(a):\n",
    "    orders = pd.DataFrame(np.zeros([M, S]), index=month, columns=supplier)\n",
    "    cap_tracker = annual_contracted_limit.loc[a].copy()\n",
    "    \n",
    "    for m in month:\n",
    "        dem = alloy_demand.loc[m, a].copy()\n",
    "        sup_prices = unit_cost.loc[a].copy()\n",
    "        thresh_tracker = contract_upper_threshold.loc[a].copy()\n",
    "        \n",
    "        while dem > 0:            \n",
    "            for s in supplier: # Update procing based on consumption\n",
    "                if cap_tracker[s] == 0:\n",
    "                    # Prohibit buying from suppliers with depleted stock for the year\n",
    "                    sup_prices[s] = np.inf\n",
    "\n",
    "                elif thresh_tracker[s] <= 0:\n",
    "                    # Update pricing if month threshoold exceeded\n",
    "                    sup_prices[s] = unit_cost.loc[a, s]*(1+contract_penalties[s])\n",
    "\n",
    "            s_min = sup_prices.idxmin()\n",
    "\n",
    "            if thresh_tracker[s_min] > 0: # have not exceeded monthly threshold yet\n",
    "                # make an order that does not exceed monthly threshold, remaining demand, and remaining annual capacity\n",
    "                order = min(thresh_tracker[s_min], cap_tracker[s_min], dem)\n",
    "                # Update trackers\n",
    "                dem -= order\n",
    "                cap_tracker[s_min]-=order\n",
    "                thresh_tracker[s_min]-=order\n",
    "                orders.loc[m, s_min]+=order\n",
    "\n",
    "            else: # Monthly theshold exceeded but still best option\n",
    "                order = min(cap_tracker[s_min], dem)\n",
    "                # Update trackers\n",
    "                dem -= order\n",
    "                cap_tracker[s_min]-=order\n",
    "                thresh_tracker[s_min]-=order\n",
    "                orders.loc[m, s_min]+=order\n",
    "            \n",
    "    return orders"
   ]
  },
  {
   "cell_type": "code",
   "execution_count": 23,
   "id": "13f929ab-b9bd-44e1-a4aa-1eee8264868b",
   "metadata": {},
   "outputs": [
    {
     "data": {
      "text/html": [
       "<div>\n",
       "<style scoped>\n",
       "    .dataframe tbody tr th:only-of-type {\n",
       "        vertical-align: middle;\n",
       "    }\n",
       "\n",
       "    .dataframe tbody tr th {\n",
       "        vertical-align: top;\n",
       "    }\n",
       "\n",
       "    .dataframe thead th {\n",
       "        text-align: right;\n",
       "    }\n",
       "</style>\n",
       "<table border=\"1\" class=\"dataframe\">\n",
       "  <thead>\n",
       "    <tr style=\"text-align: right;\">\n",
       "      <th></th>\n",
       "      <th>sup_1</th>\n",
       "      <th>sup_2</th>\n",
       "      <th>sup_3</th>\n",
       "      <th>sup_4</th>\n",
       "      <th>sup_5</th>\n",
       "    </tr>\n",
       "  </thead>\n",
       "  <tbody>\n",
       "    <tr>\n",
       "      <th>Init</th>\n",
       "      <td>0.000000</td>\n",
       "      <td>0.0</td>\n",
       "      <td>0.000000</td>\n",
       "      <td>0.000000</td>\n",
       "      <td>0.000000</td>\n",
       "    </tr>\n",
       "    <tr>\n",
       "      <th>Jan</th>\n",
       "      <td>750.000000</td>\n",
       "      <td>375.0</td>\n",
       "      <td>625.000000</td>\n",
       "      <td>416.666667</td>\n",
       "      <td>771.616667</td>\n",
       "    </tr>\n",
       "    <tr>\n",
       "      <th>Feb</th>\n",
       "      <td>750.000000</td>\n",
       "      <td>375.0</td>\n",
       "      <td>625.000000</td>\n",
       "      <td>416.666667</td>\n",
       "      <td>673.202836</td>\n",
       "    </tr>\n",
       "    <tr>\n",
       "      <th>Mar</th>\n",
       "      <td>750.000000</td>\n",
       "      <td>375.0</td>\n",
       "      <td>625.000000</td>\n",
       "      <td>416.666667</td>\n",
       "      <td>404.331250</td>\n",
       "    </tr>\n",
       "    <tr>\n",
       "      <th>Apr</th>\n",
       "      <td>453.712500</td>\n",
       "      <td>375.0</td>\n",
       "      <td>625.000000</td>\n",
       "      <td>416.666667</td>\n",
       "      <td>333.333333</td>\n",
       "    </tr>\n",
       "    <tr>\n",
       "      <th>May</th>\n",
       "      <td>86.427084</td>\n",
       "      <td>375.0</td>\n",
       "      <td>625.000000</td>\n",
       "      <td>416.666667</td>\n",
       "      <td>333.333333</td>\n",
       "    </tr>\n",
       "    <tr>\n",
       "      <th>Jun</th>\n",
       "      <td>0.000000</td>\n",
       "      <td>375.0</td>\n",
       "      <td>442.555497</td>\n",
       "      <td>416.666667</td>\n",
       "      <td>333.333333</td>\n",
       "    </tr>\n",
       "    <tr>\n",
       "      <th>Jul</th>\n",
       "      <td>0.000000</td>\n",
       "      <td>375.0</td>\n",
       "      <td>344.141667</td>\n",
       "      <td>416.666667</td>\n",
       "      <td>333.333333</td>\n",
       "    </tr>\n",
       "    <tr>\n",
       "      <th>Aug</th>\n",
       "      <td>0.000000</td>\n",
       "      <td>375.0</td>\n",
       "      <td>442.555497</td>\n",
       "      <td>416.666667</td>\n",
       "      <td>333.333333</td>\n",
       "    </tr>\n",
       "    <tr>\n",
       "      <th>Sep</th>\n",
       "      <td>694.679745</td>\n",
       "      <td>375.0</td>\n",
       "      <td>16.747339</td>\n",
       "      <td>416.666667</td>\n",
       "      <td>333.333333</td>\n",
       "    </tr>\n",
       "    <tr>\n",
       "      <th>Oct</th>\n",
       "      <td>750.000000</td>\n",
       "      <td>375.0</td>\n",
       "      <td>0.000000</td>\n",
       "      <td>416.666667</td>\n",
       "      <td>662.045833</td>\n",
       "    </tr>\n",
       "    <tr>\n",
       "      <th>Nov</th>\n",
       "      <td>750.000000</td>\n",
       "      <td>375.0</td>\n",
       "      <td>0.000000</td>\n",
       "      <td>416.666667</td>\n",
       "      <td>1029.331250</td>\n",
       "    </tr>\n",
       "    <tr>\n",
       "      <th>Dec</th>\n",
       "      <td>750.000000</td>\n",
       "      <td>375.0</td>\n",
       "      <td>0.000000</td>\n",
       "      <td>416.666667</td>\n",
       "      <td>1298.202836</td>\n",
       "    </tr>\n",
       "  </tbody>\n",
       "</table>\n",
       "</div>"
      ],
      "text/plain": [
       "           sup_1  sup_2       sup_3       sup_4        sup_5\n",
       "Init    0.000000    0.0    0.000000    0.000000     0.000000\n",
       "Jan   750.000000  375.0  625.000000  416.666667   771.616667\n",
       "Feb   750.000000  375.0  625.000000  416.666667   673.202836\n",
       "Mar   750.000000  375.0  625.000000  416.666667   404.331250\n",
       "Apr   453.712500  375.0  625.000000  416.666667   333.333333\n",
       "May    86.427084  375.0  625.000000  416.666667   333.333333\n",
       "Jun     0.000000  375.0  442.555497  416.666667   333.333333\n",
       "Jul     0.000000  375.0  344.141667  416.666667   333.333333\n",
       "Aug     0.000000  375.0  442.555497  416.666667   333.333333\n",
       "Sep   694.679745  375.0   16.747339  416.666667   333.333333\n",
       "Oct   750.000000  375.0    0.000000  416.666667   662.045833\n",
       "Nov   750.000000  375.0    0.000000  416.666667  1029.331250\n",
       "Dec   750.000000  375.0    0.000000  416.666667  1298.202836"
      ]
     },
     "execution_count": 23,
     "metadata": {},
     "output_type": "execute_result"
    }
   ],
   "source": [
    "order('all_1')"
   ]
  },
  {
   "cell_type": "code",
   "execution_count": 24,
   "id": "7d72c939-df81-4e9f-98b8-49cc82dbc2e9",
   "metadata": {},
   "outputs": [],
   "source": [
    "def cost(orders, a): \n",
    "    #Calculate cost based on orders submitted\n",
    "    costs = pd.Series(np.zeros(4), index=['PO_cost', 'delay_cost', 'exceed_cost', 'surrender_cost'])\n",
    "    for s in supplier:\n",
    "        po_price = unit_cost.loc[a, s]\n",
    "        pen_price = unit_cost.loc[a, s]*contract_penalties[s]\n",
    "        max_thresh = contract_upper_threshold.loc[a, s]\n",
    "        min_thresh = contract_lower_threshold.loc[a, s]\n",
    "        \n",
    "        for m in month:\n",
    "            order = orders.loc[m,s]\n",
    "            costs['PO_cost']+=order*po_price\n",
    "            if order > max_thresh:\n",
    "                costs['exceed_cost'] += (order-max_thresh)*pen_price\n",
    "            elif order < min_thresh:\n",
    "                costs['surrender_cost'] += (min_thresh-order)*pen_price\n",
    "    \n",
    "    return costs"
   ]
  },
  {
   "cell_type": "code",
   "execution_count": 25,
   "id": "7d4f5eeb-5730-49e7-8927-0318d92ce716",
   "metadata": {},
   "outputs": [],
   "source": [
    "for a in alloy:\n",
    "    order(a).to_csv(demand_type+'/'+a+'_base.csv')"
   ]
  },
  {
   "cell_type": "code",
   "execution_count": 26,
   "id": "78b60b3c-f368-4835-996d-60312e8fdcc8",
   "metadata": {},
   "outputs": [
    {
     "data": {
      "text/plain": [
       "PO_cost           1.998817e+08\n",
       "delay_cost        0.000000e+00\n",
       "exceed_cost       1.093456e+07\n",
       "surrender_cost    1.490729e+07\n",
       "dtype: float64"
      ]
     },
     "execution_count": 26,
     "metadata": {},
     "output_type": "execute_result"
    }
   ],
   "source": [
    "costs = pd.DataFrame(columns=alloy)\n",
    "\n",
    "for a in alloy:\n",
    "    costs[a] = cost(order(a), a)\n",
    "\n",
    "costs.sum(axis=1).to_csv(demand_type+'/base_cost.csv')\n",
    "costs.sum(axis=1)"
   ]
  },
  {
   "cell_type": "code",
   "execution_count": 27,
   "id": "54ec2265-f4da-42cb-9799-fbe386f74a65",
   "metadata": {},
   "outputs": [
    {
     "data": {
      "text/plain": [
       "PO_cost           8.708717e+07\n",
       "delay_cost        0.000000e+00\n",
       "exceed_cost       1.955844e+06\n",
       "surrender_cost    3.567850e+06\n",
       "dtype: float64"
      ]
     },
     "execution_count": 27,
     "metadata": {},
     "output_type": "execute_result"
    }
   ],
   "source": [
    "a = 'all_1'\n",
    "order = pd.read_csv(demand_type+'/'+a+'_opt.csv', index_col=0)\n",
    "\n",
    "cost(order, a)"
   ]
  },
  {
   "cell_type": "code",
   "execution_count": 28,
   "id": "666bfe3f-cd8d-4be0-acf0-28d6ba7b52c8",
   "metadata": {},
   "outputs": [
    {
     "data": {
      "text/plain": [
       "PO_cost           8.706258e+07\n",
       "delay_cost        0.000000e+00\n",
       "exceed_cost       4.103101e+06\n",
       "surrender_cost    9.936976e+06\n",
       "dtype: float64"
      ]
     },
     "execution_count": 28,
     "metadata": {},
     "output_type": "execute_result"
    }
   ],
   "source": [
    "a = 'all_1'\n",
    "order = pd.read_csv(demand_type+'/'+a+'_base.csv', index_col=0)\n",
    "\n",
    "cost(order, a)"
   ]
  }
 ],
 "metadata": {
  "kernelspec": {
   "display_name": "Python 3 (ipykernel)",
   "language": "python",
   "name": "python3"
  },
  "language_info": {
   "codemirror_mode": {
    "name": "ipython",
    "version": 3
   },
   "file_extension": ".py",
   "mimetype": "text/x-python",
   "name": "python",
   "nbconvert_exporter": "python",
   "pygments_lexer": "ipython3",
   "version": "3.9.7"
  }
 },
 "nbformat": 4,
 "nbformat_minor": 5
}
