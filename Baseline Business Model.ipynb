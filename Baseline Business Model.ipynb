{
 "cells": [
  {
   "cell_type": "markdown",
   "id": "10f986bc",
   "metadata": {},
   "source": [
    "# 1. Environment Setup"
   ]
  },
  {
   "cell_type": "code",
   "execution_count": 1,
   "id": "4d6d3872",
   "metadata": {},
   "outputs": [],
   "source": [
    "import math\n",
    "import numpy as np\n",
    "import pandas as pd"
   ]
  },
  {
   "cell_type": "markdown",
   "id": "1b1bff81",
   "metadata": {},
   "source": [
    "# 2. Data Acquisition"
   ]
  },
  {
   "cell_type": "markdown",
   "id": "648d971e",
   "metadata": {},
   "source": [
    "### 2.1 Variables Definition"
   ]
  },
  {
   "cell_type": "code",
   "execution_count": 2,
   "id": "7f8b9819",
   "metadata": {},
   "outputs": [],
   "source": [
    "alloy = ['all_1','all_2','all_3','all_4','all_5']\n",
    "supplier = ['sup_1','sup_2','sup_3','sup_4','sup_5']\n",
    "product = ['prod_1','prod_2','prod_3']\n",
    "month = ['Init', 'Jan','Feb','Mar','Apr','May','Jun','Jul','Aug','Sep','Oct','Nov','Dec']\n",
    "I = len(alloy)\n",
    "J = len(supplier)\n",
    "Z = len(product)\n",
    "M = len(month)\n",
    "q = 0.05\n",
    "mu = 1"
   ]
  },
  {
   "cell_type": "markdown",
   "id": "9dac37ad",
   "metadata": {},
   "source": [
    "### 2.2 Data Filepath"
   ]
  },
  {
   "cell_type": "code",
   "execution_count": 3,
   "id": "c8683818",
   "metadata": {},
   "outputs": [],
   "source": [
    "file_loc = 'Data Templates.xlsx'"
   ]
  },
  {
   "cell_type": "markdown",
   "id": "45fde513",
   "metadata": {},
   "source": [
    "### 2.3 Contract Upper Threshold"
   ]
  },
  {
   "cell_type": "code",
   "execution_count": 4,
   "id": "637e1bb3",
   "metadata": {},
   "outputs": [
    {
     "ename": "FileNotFoundError",
     "evalue": "[Errno 2] No such file or directory: 'Data Templates.xlsx'",
     "output_type": "error",
     "traceback": [
      "\u001b[1;31m---------------------------------------------------------------------------\u001b[0m",
      "\u001b[1;31mFileNotFoundError\u001b[0m                         Traceback (most recent call last)",
      "\u001b[1;32m<ipython-input-4-68734a1ca4e0>\u001b[0m in \u001b[0;36m<module>\u001b[1;34m\u001b[0m\n\u001b[1;32m----> 1\u001b[1;33m \u001b[0mcontract_upper_threshold\u001b[0m \u001b[1;33m=\u001b[0m \u001b[0mpd\u001b[0m\u001b[1;33m.\u001b[0m\u001b[0mread_excel\u001b[0m\u001b[1;33m(\u001b[0m\u001b[0mfile_loc\u001b[0m\u001b[1;33m,\u001b[0m\u001b[0msheet_name\u001b[0m\u001b[1;33m=\u001b[0m\u001b[1;34m'Contract Upper Threshold'\u001b[0m\u001b[1;33m,\u001b[0m\u001b[0mheader\u001b[0m\u001b[1;33m=\u001b[0m\u001b[1;36m2\u001b[0m\u001b[1;33m,\u001b[0m \u001b[0mna_values\u001b[0m\u001b[1;33m=\u001b[0m\u001b[1;33m[\u001b[0m\u001b[1;34m'NA'\u001b[0m\u001b[1;33m]\u001b[0m\u001b[1;33m,\u001b[0m \u001b[0musecols\u001b[0m\u001b[1;33m=\u001b[0m\u001b[1;34m\"B:F\"\u001b[0m\u001b[1;33m)\u001b[0m\u001b[1;33m\u001b[0m\u001b[1;33m\u001b[0m\u001b[0m\n\u001b[0m\u001b[0;32m      2\u001b[0m \u001b[0mcontract_upper_threshold\u001b[0m\u001b[1;33m.\u001b[0m\u001b[0mindex\u001b[0m\u001b[1;33m=\u001b[0m\u001b[0malloy\u001b[0m\u001b[1;33m\u001b[0m\u001b[1;33m\u001b[0m\u001b[0m\n",
      "\u001b[1;32m~\\anaconda3\\lib\\site-packages\\pandas\\util\\_decorators.py\u001b[0m in \u001b[0;36mwrapper\u001b[1;34m(*args, **kwargs)\u001b[0m\n\u001b[0;32m    297\u001b[0m                 )\n\u001b[0;32m    298\u001b[0m                 \u001b[0mwarnings\u001b[0m\u001b[1;33m.\u001b[0m\u001b[0mwarn\u001b[0m\u001b[1;33m(\u001b[0m\u001b[0mmsg\u001b[0m\u001b[1;33m,\u001b[0m \u001b[0mFutureWarning\u001b[0m\u001b[1;33m,\u001b[0m \u001b[0mstacklevel\u001b[0m\u001b[1;33m=\u001b[0m\u001b[0mstacklevel\u001b[0m\u001b[1;33m)\u001b[0m\u001b[1;33m\u001b[0m\u001b[1;33m\u001b[0m\u001b[0m\n\u001b[1;32m--> 299\u001b[1;33m             \u001b[1;32mreturn\u001b[0m \u001b[0mfunc\u001b[0m\u001b[1;33m(\u001b[0m\u001b[1;33m*\u001b[0m\u001b[0margs\u001b[0m\u001b[1;33m,\u001b[0m \u001b[1;33m**\u001b[0m\u001b[0mkwargs\u001b[0m\u001b[1;33m)\u001b[0m\u001b[1;33m\u001b[0m\u001b[1;33m\u001b[0m\u001b[0m\n\u001b[0m\u001b[0;32m    300\u001b[0m \u001b[1;33m\u001b[0m\u001b[0m\n\u001b[0;32m    301\u001b[0m         \u001b[1;32mreturn\u001b[0m \u001b[0mwrapper\u001b[0m\u001b[1;33m\u001b[0m\u001b[1;33m\u001b[0m\u001b[0m\n",
      "\u001b[1;32m~\\anaconda3\\lib\\site-packages\\pandas\\io\\excel\\_base.py\u001b[0m in \u001b[0;36mread_excel\u001b[1;34m(io, sheet_name, header, names, index_col, usecols, squeeze, dtype, engine, converters, true_values, false_values, skiprows, nrows, na_values, keep_default_na, na_filter, verbose, parse_dates, date_parser, thousands, comment, skipfooter, convert_float, mangle_dupe_cols, storage_options)\u001b[0m\n\u001b[0;32m    334\u001b[0m     \u001b[1;32mif\u001b[0m \u001b[1;32mnot\u001b[0m \u001b[0misinstance\u001b[0m\u001b[1;33m(\u001b[0m\u001b[0mio\u001b[0m\u001b[1;33m,\u001b[0m \u001b[0mExcelFile\u001b[0m\u001b[1;33m)\u001b[0m\u001b[1;33m:\u001b[0m\u001b[1;33m\u001b[0m\u001b[1;33m\u001b[0m\u001b[0m\n\u001b[0;32m    335\u001b[0m         \u001b[0mshould_close\u001b[0m \u001b[1;33m=\u001b[0m \u001b[1;32mTrue\u001b[0m\u001b[1;33m\u001b[0m\u001b[1;33m\u001b[0m\u001b[0m\n\u001b[1;32m--> 336\u001b[1;33m         \u001b[0mio\u001b[0m \u001b[1;33m=\u001b[0m \u001b[0mExcelFile\u001b[0m\u001b[1;33m(\u001b[0m\u001b[0mio\u001b[0m\u001b[1;33m,\u001b[0m \u001b[0mstorage_options\u001b[0m\u001b[1;33m=\u001b[0m\u001b[0mstorage_options\u001b[0m\u001b[1;33m,\u001b[0m \u001b[0mengine\u001b[0m\u001b[1;33m=\u001b[0m\u001b[0mengine\u001b[0m\u001b[1;33m)\u001b[0m\u001b[1;33m\u001b[0m\u001b[1;33m\u001b[0m\u001b[0m\n\u001b[0m\u001b[0;32m    337\u001b[0m     \u001b[1;32melif\u001b[0m \u001b[0mengine\u001b[0m \u001b[1;32mand\u001b[0m \u001b[0mengine\u001b[0m \u001b[1;33m!=\u001b[0m \u001b[0mio\u001b[0m\u001b[1;33m.\u001b[0m\u001b[0mengine\u001b[0m\u001b[1;33m:\u001b[0m\u001b[1;33m\u001b[0m\u001b[1;33m\u001b[0m\u001b[0m\n\u001b[0;32m    338\u001b[0m         raise ValueError(\n",
      "\u001b[1;32m~\\anaconda3\\lib\\site-packages\\pandas\\io\\excel\\_base.py\u001b[0m in \u001b[0;36m__init__\u001b[1;34m(self, path_or_buffer, engine, storage_options)\u001b[0m\n\u001b[0;32m   1078\u001b[0m                 \u001b[0mext\u001b[0m \u001b[1;33m=\u001b[0m \u001b[1;34m\"xls\"\u001b[0m\u001b[1;33m\u001b[0m\u001b[1;33m\u001b[0m\u001b[0m\n\u001b[0;32m   1079\u001b[0m             \u001b[1;32melse\u001b[0m\u001b[1;33m:\u001b[0m\u001b[1;33m\u001b[0m\u001b[1;33m\u001b[0m\u001b[0m\n\u001b[1;32m-> 1080\u001b[1;33m                 ext = inspect_excel_format(\n\u001b[0m\u001b[0;32m   1081\u001b[0m                     \u001b[0mcontent\u001b[0m\u001b[1;33m=\u001b[0m\u001b[0mpath_or_buffer\u001b[0m\u001b[1;33m,\u001b[0m \u001b[0mstorage_options\u001b[0m\u001b[1;33m=\u001b[0m\u001b[0mstorage_options\u001b[0m\u001b[1;33m\u001b[0m\u001b[1;33m\u001b[0m\u001b[0m\n\u001b[0;32m   1082\u001b[0m                 )\n",
      "\u001b[1;32m~\\anaconda3\\lib\\site-packages\\pandas\\io\\excel\\_base.py\u001b[0m in \u001b[0;36minspect_excel_format\u001b[1;34m(path, content, storage_options)\u001b[0m\n\u001b[0;32m    956\u001b[0m     \u001b[1;32massert\u001b[0m \u001b[0mcontent_or_path\u001b[0m \u001b[1;32mis\u001b[0m \u001b[1;32mnot\u001b[0m \u001b[1;32mNone\u001b[0m\u001b[1;33m\u001b[0m\u001b[1;33m\u001b[0m\u001b[0m\n\u001b[0;32m    957\u001b[0m \u001b[1;33m\u001b[0m\u001b[0m\n\u001b[1;32m--> 958\u001b[1;33m     with get_handle(\n\u001b[0m\u001b[0;32m    959\u001b[0m         \u001b[0mcontent_or_path\u001b[0m\u001b[1;33m,\u001b[0m \u001b[1;34m\"rb\"\u001b[0m\u001b[1;33m,\u001b[0m \u001b[0mstorage_options\u001b[0m\u001b[1;33m=\u001b[0m\u001b[0mstorage_options\u001b[0m\u001b[1;33m,\u001b[0m \u001b[0mis_text\u001b[0m\u001b[1;33m=\u001b[0m\u001b[1;32mFalse\u001b[0m\u001b[1;33m\u001b[0m\u001b[1;33m\u001b[0m\u001b[0m\n\u001b[0;32m    960\u001b[0m     ) as handle:\n",
      "\u001b[1;32m~\\anaconda3\\lib\\site-packages\\pandas\\io\\common.py\u001b[0m in \u001b[0;36mget_handle\u001b[1;34m(path_or_buf, mode, encoding, compression, memory_map, is_text, errors, storage_options)\u001b[0m\n\u001b[0;32m    654\u001b[0m         \u001b[1;32melse\u001b[0m\u001b[1;33m:\u001b[0m\u001b[1;33m\u001b[0m\u001b[1;33m\u001b[0m\u001b[0m\n\u001b[0;32m    655\u001b[0m             \u001b[1;31m# Binary mode\u001b[0m\u001b[1;33m\u001b[0m\u001b[1;33m\u001b[0m\u001b[1;33m\u001b[0m\u001b[0m\n\u001b[1;32m--> 656\u001b[1;33m             \u001b[0mhandle\u001b[0m \u001b[1;33m=\u001b[0m \u001b[0mopen\u001b[0m\u001b[1;33m(\u001b[0m\u001b[0mhandle\u001b[0m\u001b[1;33m,\u001b[0m \u001b[0mioargs\u001b[0m\u001b[1;33m.\u001b[0m\u001b[0mmode\u001b[0m\u001b[1;33m)\u001b[0m\u001b[1;33m\u001b[0m\u001b[1;33m\u001b[0m\u001b[0m\n\u001b[0m\u001b[0;32m    657\u001b[0m         \u001b[0mhandles\u001b[0m\u001b[1;33m.\u001b[0m\u001b[0mappend\u001b[0m\u001b[1;33m(\u001b[0m\u001b[0mhandle\u001b[0m\u001b[1;33m)\u001b[0m\u001b[1;33m\u001b[0m\u001b[1;33m\u001b[0m\u001b[0m\n\u001b[0;32m    658\u001b[0m \u001b[1;33m\u001b[0m\u001b[0m\n",
      "\u001b[1;31mFileNotFoundError\u001b[0m: [Errno 2] No such file or directory: 'Data Templates.xlsx'"
     ]
    }
   ],
   "source": [
    "contract_upper_threshold = pd.read_excel(file_loc,sheet_name='Contract Upper Threshold',header=2, na_values=['NA'], usecols=\"B:F\")\n",
    "contract_upper_threshold.index=alloy"
   ]
  },
  {
   "cell_type": "code",
   "execution_count": null,
   "id": "afc65945",
   "metadata": {},
   "outputs": [],
   "source": [
    "h = contract_upper_threshold\n",
    "contract_upper_threshold"
   ]
  },
  {
   "cell_type": "markdown",
   "id": "9b4a7408",
   "metadata": {},
   "source": [
    "### 2.4 Contract Lower Threshold"
   ]
  },
  {
   "cell_type": "code",
   "execution_count": null,
   "id": "55a7c1fa",
   "metadata": {},
   "outputs": [],
   "source": [
    "contract_lower_threshold = pd.read_excel(file_loc,sheet_name='Contract Lower Threshold',header=2, na_values=['NA'], usecols=\"B:F\")\n",
    "contract_lower_threshold.index=alloy"
   ]
  },
  {
   "cell_type": "code",
   "execution_count": null,
   "id": "293deebe",
   "metadata": {},
   "outputs": [],
   "source": [
    "l = contract_lower_threshold\n",
    "contract_lower_threshold"
   ]
  },
  {
   "cell_type": "markdown",
   "id": "db68a5fb",
   "metadata": {},
   "source": [
    "### 2.5 Contract Penalties"
   ]
  },
  {
   "cell_type": "code",
   "execution_count": null,
   "id": "14c7ad7e",
   "metadata": {},
   "outputs": [],
   "source": [
    "contract_penalties = pd.read_excel(file_loc,sheet_name='Contract Penalties',header=2, na_values=['NA'], usecols=\"B:F\")\n",
    "contract_penalties.index=['Penalty Fee %']"
   ]
  },
  {
   "cell_type": "code",
   "execution_count": null,
   "id": "1bb7541d",
   "metadata": {},
   "outputs": [],
   "source": [
    "p = contract_penalties\n",
    "contract_penalties"
   ]
  },
  {
   "cell_type": "markdown",
   "id": "1cb3007b",
   "metadata": {},
   "source": [
    "### 2.6 Annual Contract Limit"
   ]
  },
  {
   "cell_type": "code",
   "execution_count": null,
   "id": "3d6be119",
   "metadata": {},
   "outputs": [],
   "source": [
    "annual_contracted_limit= pd.read_excel(file_loc,sheet_name='Annual Contracted Limit',header=2, na_values=['NA'], usecols=\"B:F\")\n",
    "annual_contracted_limit = annual_contracted_limit.iloc[:5,:]\n",
    "annual_contracted_limit.index=alloy"
   ]
  },
  {
   "cell_type": "code",
   "execution_count": null,
   "id": "95ed37a7",
   "metadata": {},
   "outputs": [],
   "source": [
    "k = annual_contracted_limit\n",
    "annual_contracted_limit"
   ]
  },
  {
   "cell_type": "markdown",
   "id": "cd7bf5e3",
   "metadata": {},
   "source": [
    "### 2.7 Unit Cost"
   ]
  },
  {
   "cell_type": "code",
   "execution_count": null,
   "id": "06026f92",
   "metadata": {},
   "outputs": [],
   "source": [
    "unit_cost = pd.read_excel(file_loc,sheet_name='Unit Cost',header=2, na_values=['NA'], usecols=\"B:F\")\n",
    "unit_cost = unit_cost.iloc[:5,:]\n",
    "unit_cost.index=alloy"
   ]
  },
  {
   "cell_type": "code",
   "execution_count": null,
   "id": "5de2666f",
   "metadata": {},
   "outputs": [],
   "source": [
    "c = unit_cost\n",
    "unit_cost"
   ]
  },
  {
   "cell_type": "markdown",
   "id": "495c5c1c",
   "metadata": {},
   "source": [
    "### 2.8 Product Revenue"
   ]
  },
  {
   "cell_type": "code",
   "execution_count": null,
   "id": "403c9408-3097-437a-bd4c-6bd2f1c4b84f",
   "metadata": {},
   "outputs": [],
   "source": [
    "prod_rev = pd.read_excel(file_loc,sheet_name='Prod Rev',header=2, na_values=['NA'], usecols=\"B:F\")\n",
    "prod_rev.index=['Revenue ($)']"
   ]
  },
  {
   "cell_type": "code",
   "execution_count": null,
   "id": "5a69f590",
   "metadata": {},
   "outputs": [],
   "source": [
    "r = prod_rev\n",
    "prod_rev"
   ]
  },
  {
   "cell_type": "markdown",
   "id": "ff545859",
   "metadata": {},
   "source": [
    "### 2.9 Product Recipe"
   ]
  },
  {
   "cell_type": "code",
   "execution_count": null,
   "id": "33e5e3e0",
   "metadata": {},
   "outputs": [],
   "source": [
    "prod_recipe= pd.read_excel(file_loc,sheet_name='Prod Recipe',header=2, na_values=['NA'], usecols=\"B:D\")\n",
    "prod_recipe = prod_recipe.iloc[:5,:]\n",
    "prod_recipe.index=alloy"
   ]
  },
  {
   "cell_type": "code",
   "execution_count": null,
   "id": "6959cbc7",
   "metadata": {},
   "outputs": [],
   "source": [
    "u = prod_recipe\n",
    "prod_recipe"
   ]
  },
  {
   "cell_type": "markdown",
   "id": "0363f0c7",
   "metadata": {},
   "source": [
    "### 2.10 Predicted Demand"
   ]
  },
  {
   "cell_type": "code",
   "execution_count": null,
   "id": "07fb9bc9",
   "metadata": {},
   "outputs": [],
   "source": [
    "predicted_demand= pd.read_excel(file_loc,sheet_name='Predicted Demand',header=2, na_values=['NA'], usecols=\"B:D\")\n",
    "predicted_demand.index=month"
   ]
  },
  {
   "cell_type": "code",
   "execution_count": null,
   "id": "c36a979e",
   "metadata": {},
   "outputs": [],
   "source": [
    "d = predicted_demand\n",
    "predicted_demand"
   ]
  },
  {
   "cell_type": "markdown",
   "id": "51fd64c5-0987-41ca-b547-c0356733609c",
   "metadata": {},
   "source": [
    "# 3. Baseline Model"
   ]
  },
  {
   "cell_type": "code",
   "execution_count": null,
   "id": "864d3311-41b3-4a27-bdcf-48e819bdb98b",
   "metadata": {},
   "outputs": [],
   "source": [
    "alloy_demand = predicted_demand @ prod_recipe.T\n",
    "alloy_demand"
   ]
  },
  {
   "cell_type": "code",
   "execution_count": null,
   "id": "1472d292-5685-493f-a362-0a4193620991",
   "metadata": {},
   "outputs": [],
   "source": [
    "cap_tracker = annual_contracted_limit.copy()\n",
    "\n",
    "def order(a):\n",
    "    orders = pd.DataFrame(np.zeros(M, S), index=month, columns=supplier)\n",
    "    cap_tracker = annual_contracted_limit.loc[a].copy()\n",
    "    \n",
    "    for m in month:\n",
    "        dem = alloy_demand.loc[m, a]\n",
    "        sup_prices = unit_cost.loc[a]\n",
    "        thresh_tracker = contract_upper_threshold.loc[a].copy()\n",
    "        \n",
    "        while dem > 0:            \n",
    "            for s in supplier:\n",
    "                if cap_tracker[s] == 0:\n",
    "                    # Prohibit buying from suppliers with depleted stock for the year\n",
    "                    sup_prices[s] = np.inf\n",
    "\n",
    "                elif thresh_tracker[s] <= 0:\n",
    "                    # Update pricing if month threshoold exceeded\n",
    "                    sup_prices[s] = unit_cost.loc[a, s]*(1+contract_penalties[s])\n",
    "\n",
    "            s_min = sup_prices.idxmin()\n",
    "\n",
    "            if thresh_tracker[s_min] > 0: # have not exceeded monthly threshold yet\n",
    "                # make an order that does not exceed monthly threshold, remaining demand, and remaining annual capacity\n",
    "                order = min(thresh_tracker[s_min], cap_tracker[s_min], dem)\n",
    "                # Update trackers\n",
    "                dem -= order\n",
    "                cap_tracker[s_min]-=order\n",
    "                thresh_tracker[s_min]-=order\n",
    "                orders.loc[m, s_min]+=order\n",
    "\n",
    "            else: # Monthly theshold exceeded but still best option\n",
    "                order = min(cap_tracker[s_min], dem)\n",
    "                # Update trackers\n",
    "                dem -= order\n",
    "                cap_tracker[s_min]-=order\n",
    "                thresh_tracker[s_min]-=order\n",
    "                orders.loc[m, s_min]+=order\n",
    "            \n",
    "    return orders"
   ]
  },
  {
   "cell_type": "code",
   "execution_count": null,
   "id": "7d72c939-df81-4e9f-98b8-49cc82dbc2e9",
   "metadata": {},
   "outputs": [],
   "source": []
  }
 ],
 "metadata": {
  "kernelspec": {
   "display_name": "Python 3",
   "language": "python",
   "name": "python3"
  },
  "language_info": {
   "codemirror_mode": {
    "name": "ipython",
    "version": 3
   },
   "file_extension": ".py",
   "mimetype": "text/x-python",
   "name": "python",
   "nbconvert_exporter": "python",
   "pygments_lexer": "ipython3",
   "version": "3.8.8"
  }
 },
 "nbformat": 4,
 "nbformat_minor": 5
}
